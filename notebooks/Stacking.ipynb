{
 "cells": [
  {
   "cell_type": "code",
   "execution_count": 193,
   "metadata": {},
   "outputs": [],
   "source": [
    "import pandas as pd\n",
    "import numpy as np"
   ]
  },
  {
   "cell_type": "code",
   "execution_count": 194,
   "metadata": {},
   "outputs": [],
   "source": [
    "from sklearn.linear_model import LinearRegression, Ridge, HuberRegressor"
   ]
  },
  {
   "cell_type": "code",
   "execution_count": 195,
   "metadata": {},
   "outputs": [],
   "source": [
    "from lightgbm import LGBMRegressor"
   ]
  },
  {
   "cell_type": "code",
   "execution_count": 196,
   "metadata": {},
   "outputs": [],
   "source": [
    "import sys\n",
    "sys.path.append('../')\n",
    "from preprocessing.preprocessing import preprocessing"
   ]
  },
  {
   "cell_type": "code",
   "execution_count": 197,
   "metadata": {},
   "outputs": [],
   "source": [
    "#gte = gte = pd.read_csv(\"../features/gte_features_w8_prp50.csv\")\n",
    "#gte.Date = pd.to_datetime(gte.Date)"
   ]
  },
  {
   "cell_type": "code",
   "execution_count": 198,
   "metadata": {},
   "outputs": [],
   "source": [
    "path_train = '../dataset/prediction/val/'\n",
    "path_test =  '../dataset/prediction/test/'\n",
    "\n",
    "lgb_std_train = pd.read_csv(path_train + \"lgb_std_val.csv\")\n",
    "lgb_std_test = pd.read_csv(path_test + \"lgb_std_test.csv\")\n",
    "\n",
    "lgb_cls_train = pd.read_csv(path_train + \"lgb_cls_val.csv\")\n",
    "lgb_cls_test = pd.read_csv(path_test + \"lgb_cls_test.csv\")\n",
    "\n",
    "cat_std_train = pd.read_csv(path_train + \"cat_std_val.csv\")\n",
    "cat_std_test = pd.read_csv(path_test + \"cat_std_test.csv\")\n",
    "\n",
    "cat_cls_train = pd.read_csv(path_train + \"cat_cls_val.csv\")\n",
    "cat_cls_test = pd.read_csv(path_test + \"cat_cls_test.csv\")\n",
    "\n",
    "#xgb_train = pd.read_csv(path_train + \"xgb_incremental_val.csv\")\n",
    "#xgb_test = pd.read_csv(path_test + \"xgb_incremental_test.csv\")\n",
    "\n",
    "lin_reg_train = pd.read_csv(path_train + \"linear_reg_val.csv\")\n",
    "lin_reg_test = pd.read_csv(path_test + \"linear_reg_test.csv\")"
   ]
  },
  {
   "cell_type": "code",
   "execution_count": 199,
   "metadata": {},
   "outputs": [
    {
     "name": "stderr",
     "output_type": "stream",
     "text": [
      "../preprocessing/preprocessing.py:85: SettingWithCopyWarning: \n",
      "A value is trying to be set on a copy of a slice from a DataFrame.\n",
      "Try using .loc[row_indexer,col_indexer] = value instead\n",
      "\n",
      "See the caveats in the documentation: https://pandas.pydata.org/pandas-docs/stable/user_guide/indexing.html#returning-a-view-versus-a-copy\n",
      "  df_2017['order'] = df_2017.sort_values(['sku', 'Date']).groupby('sku').cumcount()\n",
      "../preprocessing/preprocessing.py:86: SettingWithCopyWarning: \n",
      "A value is trying to be set on a copy of a slice from a DataFrame.\n",
      "Try using .loc[row_indexer,col_indexer] = value instead\n",
      "\n",
      "See the caveats in the documentation: https://pandas.pydata.org/pandas-docs/stable/user_guide/indexing.html#returning-a-view-versus-a-copy\n",
      "  df_2018['order'] = df_2018.sort_values(['sku', 'Date']).groupby('sku').cumcount()\n"
     ]
    }
   ],
   "source": [
    "train = pd.read_csv(\"../dataset/original/train.csv\")\n",
    "test = pd.read_csv(\"../dataset/original/x_test.csv\")\n",
    "df = preprocessing(train, test, useTest=False)"
   ]
  },
  {
   "cell_type": "code",
   "execution_count": 200,
   "metadata": {},
   "outputs": [],
   "source": [
    "prediction_train = lgb_cls_train.merge(lgb_std_train, how='left', on=['Date', 'sku', 'target', 'real_target'])\n",
    "prediction_train = prediction_train.merge(cat_std_train, how='left', on=['Date', 'sku', 'target', 'real_target'])\n",
    "prediction_train = prediction_train.merge(cat_cls_train, how='left', on=['Date', 'sku', 'target', 'real_target'])\n",
    "#prediction_train = prediction_train.merge(xgb_train, how='left', on=['Date', 'sku', 'target', 'real_target'])\n",
    "prediction_train = prediction_train.merge(lin_reg_train, how='left', on=['Date', 'sku', 'target', 'real_target'])\n",
    "\n",
    "prediction_train.Date = pd.to_datetime(prediction_train.Date)\n",
    "prediction_train = prediction_train.merge(df[['Date', 'sku', 'sales w-1']], how='left', on=['Date', 'sku'])\n",
    "#prediction_train = prediction_train.merge(gte, how='left', on=['Date', 'sku', 'target', 'real_target'])"
   ]
  },
  {
   "cell_type": "code",
   "execution_count": 201,
   "metadata": {},
   "outputs": [],
   "source": [
    "#prediction_train = prediction_train[prediction_train.log_prediction_lgb_cls != 0.0]"
   ]
  },
  {
   "cell_type": "code",
   "execution_count": 202,
   "metadata": {
    "scrolled": true
   },
   "outputs": [],
   "source": [
    "#prediction_train = prediction_train.merge(df[['Date', 'sku', 'sales w-1']], how='left')"
   ]
  },
  {
   "cell_type": "code",
   "execution_count": 203,
   "metadata": {},
   "outputs": [],
   "source": [
    "prediction_test = lgb_cls_test.merge(lgb_std_test, how='left', on=['Date', 'sku', 'target', 'real_target'])\n",
    "prediction_test = prediction_test.merge(cat_std_test, how='left', on=['Date', 'sku', 'target', 'real_target'])\n",
    "prediction_test = prediction_test.merge(cat_cls_test, how='left', on=['Date', 'sku', 'target', 'real_target'])\n",
    "#prediction_test = prediction_test.merge(xgb_test, how='left', on=['Date', 'sku', 'target', 'real_target'])\n",
    "prediction_test = prediction_test.merge(lin_reg_test, how='left', on=['Date', 'sku', 'target', 'real_target'])\n",
    "\n",
    "prediction_test.Date = pd.to_datetime(prediction_test.Date)\n",
    "prediction_test = prediction_test.merge(df[['Date', 'sku', 'sales w-1']], how='left')\n",
    "#prediction_test = prediction_test.merge(gte, how='left', on=['Date', 'sku', 'target', 'real_target'])"
   ]
  },
  {
   "cell_type": "code",
   "execution_count": 204,
   "metadata": {},
   "outputs": [],
   "source": [
    "mask = (prediction_train.Date=='2017-01-07')\n",
    "prediction_train = prediction_train.drop(prediction_train[mask].index)"
   ]
  },
  {
   "cell_type": "code",
   "execution_count": null,
   "metadata": {},
   "outputs": [],
   "source": []
  },
  {
   "cell_type": "code",
   "execution_count": 205,
   "metadata": {},
   "outputs": [],
   "source": [
    "prediction_test = prediction_test[~prediction_test.prediction_linear_reg.isna()]"
   ]
  },
  {
   "cell_type": "code",
   "execution_count": 206,
   "metadata": {},
   "outputs": [
    {
     "data": {
      "text/plain": [
       "['log_prediction_lgb_cls',\n",
       " 'log_prediction_lgb_std',\n",
       " 'log_prediction_cat_std',\n",
       " 'log_prediction_cat_cls',\n",
       " 'log_prediction_linear_reg']"
      ]
     },
     "execution_count": 206,
     "metadata": {},
     "output_type": "execute_result"
    }
   ],
   "source": [
    "cols = ['log_prediction_lgb_cls',\n",
    "        'log_prediction_lgb_std',\n",
    "        'log_prediction_cat_std',\n",
    "        'log_prediction_cat_cls',\n",
    "        'log_prediction_linear_reg',\n",
    "        #'prediction',\n",
    "        #'sales w-1'\n",
    "       ]\n",
    "#gte_cols = [x for x in prediction_train.columns if 'gte' in x]\n",
    "#cols = cols + gte_cols\n",
    "cols"
   ]
  },
  {
   "cell_type": "code",
   "execution_count": 207,
   "metadata": {},
   "outputs": [],
   "source": [
    "#prediction_train = prediction_train[prediction_train.Date > '2018-01-06']"
   ]
  },
  {
   "cell_type": "code",
   "execution_count": 208,
   "metadata": {},
   "outputs": [
    {
     "data": {
      "text/plain": [
       "LinearRegression()"
      ]
     },
     "execution_count": 208,
     "metadata": {},
     "output_type": "execute_result"
    }
   ],
   "source": [
    "reg = LinearRegression()\n",
    "reg.fit(prediction_train[cols], prediction_train.target)"
   ]
  },
  {
   "cell_type": "code",
   "execution_count": 34,
   "metadata": {},
   "outputs": [
    {
     "name": "stdout",
     "output_type": "stream",
     "text": [
      "[1]\tvalid_0's mape: 0.0726443\tvalid_0's l2: 0.816398\n",
      "Training until validation scores don't improve for 200 rounds\n",
      "[2]\tvalid_0's mape: 0.0656633\tvalid_0's l2: 0.667293\n",
      "[3]\tvalid_0's mape: 0.0593303\tvalid_0's l2: 0.545613\n",
      "[4]\tvalid_0's mape: 0.0536922\tvalid_0's l2: 0.447294\n",
      "[5]\tvalid_0's mape: 0.0485863\tvalid_0's l2: 0.367184\n",
      "[6]\tvalid_0's mape: 0.04402\tvalid_0's l2: 0.301863\n",
      "[7]\tvalid_0's mape: 0.0400147\tvalid_0's l2: 0.249409\n",
      "[8]\tvalid_0's mape: 0.0363985\tvalid_0's l2: 0.206291\n",
      "[9]\tvalid_0's mape: 0.033184\tvalid_0's l2: 0.17178\n",
      "[10]\tvalid_0's mape: 0.0302714\tvalid_0's l2: 0.143612\n",
      "[11]\tvalid_0's mape: 0.0276946\tvalid_0's l2: 0.120625\n",
      "[12]\tvalid_0's mape: 0.0253975\tvalid_0's l2: 0.101897\n",
      "[13]\tvalid_0's mape: 0.0233389\tvalid_0's l2: 0.0866809\n",
      "[14]\tvalid_0's mape: 0.0215699\tvalid_0's l2: 0.0743235\n",
      "[15]\tvalid_0's mape: 0.0199702\tvalid_0's l2: 0.0640683\n",
      "[16]\tvalid_0's mape: 0.0186286\tvalid_0's l2: 0.0560211\n",
      "[17]\tvalid_0's mape: 0.0173992\tvalid_0's l2: 0.0491514\n",
      "[18]\tvalid_0's mape: 0.0163854\tvalid_0's l2: 0.0439084\n",
      "[19]\tvalid_0's mape: 0.0154275\tvalid_0's l2: 0.039404\n",
      "[20]\tvalid_0's mape: 0.0145675\tvalid_0's l2: 0.035645\n",
      "[21]\tvalid_0's mape: 0.0138274\tvalid_0's l2: 0.0326457\n",
      "[22]\tvalid_0's mape: 0.0131902\tvalid_0's l2: 0.0302222\n",
      "[23]\tvalid_0's mape: 0.0126244\tvalid_0's l2: 0.0282575\n",
      "[24]\tvalid_0's mape: 0.0121504\tvalid_0's l2: 0.0266844\n",
      "[25]\tvalid_0's mape: 0.0117973\tvalid_0's l2: 0.0255146\n",
      "[26]\tvalid_0's mape: 0.0114456\tvalid_0's l2: 0.0244912\n",
      "[27]\tvalid_0's mape: 0.0111253\tvalid_0's l2: 0.0235874\n",
      "[28]\tvalid_0's mape: 0.0108718\tvalid_0's l2: 0.0229125\n",
      "[29]\tvalid_0's mape: 0.0106596\tvalid_0's l2: 0.0224053\n",
      "[30]\tvalid_0's mape: 0.0104891\tvalid_0's l2: 0.0219544\n",
      "[31]\tvalid_0's mape: 0.0104031\tvalid_0's l2: 0.0217281\n",
      "[32]\tvalid_0's mape: 0.0102454\tvalid_0's l2: 0.0213609\n",
      "[33]\tvalid_0's mape: 0.0101721\tvalid_0's l2: 0.0212138\n",
      "[34]\tvalid_0's mape: 0.010079\tvalid_0's l2: 0.0210305\n",
      "[35]\tvalid_0's mape: 0.0100025\tvalid_0's l2: 0.0208624\n",
      "[36]\tvalid_0's mape: 0.00994198\tvalid_0's l2: 0.0207173\n",
      "[37]\tvalid_0's mape: 0.00987276\tvalid_0's l2: 0.0205762\n",
      "[38]\tvalid_0's mape: 0.00980494\tvalid_0's l2: 0.0204083\n",
      "[39]\tvalid_0's mape: 0.00981229\tvalid_0's l2: 0.0204585\n",
      "[40]\tvalid_0's mape: 0.00978885\tvalid_0's l2: 0.020362\n",
      "[41]\tvalid_0's mape: 0.00977225\tvalid_0's l2: 0.0203156\n",
      "[42]\tvalid_0's mape: 0.00974109\tvalid_0's l2: 0.0202342\n",
      "[43]\tvalid_0's mape: 0.00973026\tvalid_0's l2: 0.0201941\n",
      "[44]\tvalid_0's mape: 0.00970055\tvalid_0's l2: 0.020095\n",
      "[45]\tvalid_0's mape: 0.00966874\tvalid_0's l2: 0.0200302\n",
      "[46]\tvalid_0's mape: 0.00966148\tvalid_0's l2: 0.019974\n",
      "[47]\tvalid_0's mape: 0.00966359\tvalid_0's l2: 0.0199748\n",
      "[48]\tvalid_0's mape: 0.00963258\tvalid_0's l2: 0.0198451\n",
      "[49]\tvalid_0's mape: 0.00962715\tvalid_0's l2: 0.0198269\n",
      "[50]\tvalid_0's mape: 0.00961795\tvalid_0's l2: 0.0197905\n",
      "[51]\tvalid_0's mape: 0.00961317\tvalid_0's l2: 0.0197721\n",
      "[52]\tvalid_0's mape: 0.00957899\tvalid_0's l2: 0.019716\n",
      "[53]\tvalid_0's mape: 0.00959039\tvalid_0's l2: 0.0197406\n",
      "[54]\tvalid_0's mape: 0.00956849\tvalid_0's l2: 0.0196274\n",
      "[55]\tvalid_0's mape: 0.00954862\tvalid_0's l2: 0.0194713\n",
      "[56]\tvalid_0's mape: 0.00954877\tvalid_0's l2: 0.0194962\n",
      "[57]\tvalid_0's mape: 0.00953734\tvalid_0's l2: 0.0194855\n",
      "[58]\tvalid_0's mape: 0.0095321\tvalid_0's l2: 0.0193723\n",
      "[59]\tvalid_0's mape: 0.00954762\tvalid_0's l2: 0.0194579\n",
      "[60]\tvalid_0's mape: 0.00954298\tvalid_0's l2: 0.0194681\n",
      "[61]\tvalid_0's mape: 0.00954276\tvalid_0's l2: 0.0194698\n",
      "[62]\tvalid_0's mape: 0.00954206\tvalid_0's l2: 0.0194533\n",
      "[63]\tvalid_0's mape: 0.00955188\tvalid_0's l2: 0.0194706\n",
      "[64]\tvalid_0's mape: 0.00955278\tvalid_0's l2: 0.0194672\n",
      "[65]\tvalid_0's mape: 0.00954156\tvalid_0's l2: 0.0194671\n",
      "[66]\tvalid_0's mape: 0.00955083\tvalid_0's l2: 0.0195285\n",
      "[67]\tvalid_0's mape: 0.00955434\tvalid_0's l2: 0.0195213\n",
      "[68]\tvalid_0's mape: 0.00955851\tvalid_0's l2: 0.0195312\n",
      "[69]\tvalid_0's mape: 0.00955475\tvalid_0's l2: 0.0194704\n",
      "[70]\tvalid_0's mape: 0.00955706\tvalid_0's l2: 0.0194751\n",
      "[71]\tvalid_0's mape: 0.00955937\tvalid_0's l2: 0.0194763\n",
      "[72]\tvalid_0's mape: 0.00954529\tvalid_0's l2: 0.0194223\n",
      "[73]\tvalid_0's mape: 0.00954196\tvalid_0's l2: 0.0193847\n",
      "[74]\tvalid_0's mape: 0.00952897\tvalid_0's l2: 0.0193546\n",
      "[75]\tvalid_0's mape: 0.00952361\tvalid_0's l2: 0.019333\n",
      "[76]\tvalid_0's mape: 0.00952812\tvalid_0's l2: 0.0193418\n",
      "[77]\tvalid_0's mape: 0.00953351\tvalid_0's l2: 0.0193637\n",
      "[78]\tvalid_0's mape: 0.00955043\tvalid_0's l2: 0.0193897\n",
      "[79]\tvalid_0's mape: 0.00957828\tvalid_0's l2: 0.0194767\n",
      "[80]\tvalid_0's mape: 0.00956929\tvalid_0's l2: 0.019459\n",
      "[81]\tvalid_0's mape: 0.0095721\tvalid_0's l2: 0.0194739\n",
      "[82]\tvalid_0's mape: 0.00957174\tvalid_0's l2: 0.0195072\n",
      "[83]\tvalid_0's mape: 0.00956412\tvalid_0's l2: 0.0194769\n",
      "[84]\tvalid_0's mape: 0.00956474\tvalid_0's l2: 0.0194838\n",
      "[85]\tvalid_0's mape: 0.00956694\tvalid_0's l2: 0.0194877\n",
      "[86]\tvalid_0's mape: 0.00958442\tvalid_0's l2: 0.0195889\n",
      "[87]\tvalid_0's mape: 0.00957331\tvalid_0's l2: 0.0195407\n",
      "[88]\tvalid_0's mape: 0.00956679\tvalid_0's l2: 0.019516\n",
      "[89]\tvalid_0's mape: 0.00957397\tvalid_0's l2: 0.0195329\n",
      "[90]\tvalid_0's mape: 0.00957264\tvalid_0's l2: 0.0195263\n",
      "[91]\tvalid_0's mape: 0.00960281\tvalid_0's l2: 0.019658\n",
      "[92]\tvalid_0's mape: 0.00960987\tvalid_0's l2: 0.019666\n",
      "[93]\tvalid_0's mape: 0.00961048\tvalid_0's l2: 0.0196759\n",
      "[94]\tvalid_0's mape: 0.00959933\tvalid_0's l2: 0.0196579\n",
      "[95]\tvalid_0's mape: 0.00961301\tvalid_0's l2: 0.0197221\n",
      "[96]\tvalid_0's mape: 0.00962811\tvalid_0's l2: 0.019773\n",
      "[97]\tvalid_0's mape: 0.00962672\tvalid_0's l2: 0.0197588\n",
      "[98]\tvalid_0's mape: 0.00962342\tvalid_0's l2: 0.0197415\n",
      "[99]\tvalid_0's mape: 0.00962595\tvalid_0's l2: 0.0197561\n",
      "[100]\tvalid_0's mape: 0.00963383\tvalid_0's l2: 0.0198046\n",
      "[101]\tvalid_0's mape: 0.00962998\tvalid_0's l2: 0.0198007\n",
      "[102]\tvalid_0's mape: 0.00962923\tvalid_0's l2: 0.0197934\n",
      "[103]\tvalid_0's mape: 0.00962697\tvalid_0's l2: 0.0197843\n",
      "[104]\tvalid_0's mape: 0.00963571\tvalid_0's l2: 0.0198088\n",
      "[105]\tvalid_0's mape: 0.00963665\tvalid_0's l2: 0.0198123\n",
      "[106]\tvalid_0's mape: 0.00963187\tvalid_0's l2: 0.0198193\n",
      "[107]\tvalid_0's mape: 0.00963188\tvalid_0's l2: 0.0198326\n",
      "[108]\tvalid_0's mape: 0.00963368\tvalid_0's l2: 0.019843\n",
      "[109]\tvalid_0's mape: 0.00961604\tvalid_0's l2: 0.0198087\n",
      "[110]\tvalid_0's mape: 0.00960997\tvalid_0's l2: 0.0197911\n",
      "[111]\tvalid_0's mape: 0.00961956\tvalid_0's l2: 0.0198458\n",
      "[112]\tvalid_0's mape: 0.00962605\tvalid_0's l2: 0.0198642\n",
      "[113]\tvalid_0's mape: 0.00962399\tvalid_0's l2: 0.019862\n",
      "[114]\tvalid_0's mape: 0.00965664\tvalid_0's l2: 0.0200239\n",
      "[115]\tvalid_0's mape: 0.00965864\tvalid_0's l2: 0.0200246\n",
      "[116]\tvalid_0's mape: 0.00968253\tvalid_0's l2: 0.0200558\n",
      "[117]\tvalid_0's mape: 0.00967742\tvalid_0's l2: 0.0200624\n",
      "[118]\tvalid_0's mape: 0.00967327\tvalid_0's l2: 0.0200245\n",
      "[119]\tvalid_0's mape: 0.00967756\tvalid_0's l2: 0.0200333\n",
      "[120]\tvalid_0's mape: 0.00967048\tvalid_0's l2: 0.0200208\n",
      "[121]\tvalid_0's mape: 0.00967949\tvalid_0's l2: 0.0200532\n",
      "[122]\tvalid_0's mape: 0.00968285\tvalid_0's l2: 0.0200605\n",
      "[123]\tvalid_0's mape: 0.00968242\tvalid_0's l2: 0.0200445\n",
      "[124]\tvalid_0's mape: 0.00968006\tvalid_0's l2: 0.0200602\n",
      "[125]\tvalid_0's mape: 0.00966527\tvalid_0's l2: 0.020025\n",
      "[126]\tvalid_0's mape: 0.00964284\tvalid_0's l2: 0.0199644\n",
      "[127]\tvalid_0's mape: 0.00964828\tvalid_0's l2: 0.0199855\n",
      "[128]\tvalid_0's mape: 0.00964034\tvalid_0's l2: 0.0199953\n",
      "[129]\tvalid_0's mape: 0.0096385\tvalid_0's l2: 0.020004\n",
      "[130]\tvalid_0's mape: 0.00964065\tvalid_0's l2: 0.0200085\n",
      "[131]\tvalid_0's mape: 0.00963134\tvalid_0's l2: 0.0199876\n",
      "[132]\tvalid_0's mape: 0.00963578\tvalid_0's l2: 0.0200185\n",
      "[133]\tvalid_0's mape: 0.00963551\tvalid_0's l2: 0.0200216\n",
      "[134]\tvalid_0's mape: 0.00964227\tvalid_0's l2: 0.0200377\n",
      "[135]\tvalid_0's mape: 0.00963756\tvalid_0's l2: 0.020016\n",
      "[136]\tvalid_0's mape: 0.00963814\tvalid_0's l2: 0.0199729\n",
      "[137]\tvalid_0's mape: 0.00962776\tvalid_0's l2: 0.0199669\n",
      "[138]\tvalid_0's mape: 0.00962823\tvalid_0's l2: 0.0199896\n",
      "[139]\tvalid_0's mape: 0.00962739\tvalid_0's l2: 0.0199868\n",
      "[140]\tvalid_0's mape: 0.00963499\tvalid_0's l2: 0.0200099\n",
      "[141]\tvalid_0's mape: 0.00962532\tvalid_0's l2: 0.0200311\n",
      "[142]\tvalid_0's mape: 0.00964518\tvalid_0's l2: 0.0200964\n",
      "[143]\tvalid_0's mape: 0.00967502\tvalid_0's l2: 0.0202192\n",
      "[144]\tvalid_0's mape: 0.00967085\tvalid_0's l2: 0.0202045\n",
      "[145]\tvalid_0's mape: 0.00967806\tvalid_0's l2: 0.020238\n",
      "[146]\tvalid_0's mape: 0.00967107\tvalid_0's l2: 0.0202076\n",
      "[147]\tvalid_0's mape: 0.00968416\tvalid_0's l2: 0.0202532\n",
      "[148]\tvalid_0's mape: 0.00969314\tvalid_0's l2: 0.0202741\n",
      "[149]\tvalid_0's mape: 0.00969512\tvalid_0's l2: 0.0202855\n",
      "[150]\tvalid_0's mape: 0.00969175\tvalid_0's l2: 0.0202728\n",
      "[151]\tvalid_0's mape: 0.00969202\tvalid_0's l2: 0.0202734\n",
      "[152]\tvalid_0's mape: 0.00968952\tvalid_0's l2: 0.020286\n",
      "[153]\tvalid_0's mape: 0.00967921\tvalid_0's l2: 0.0202739\n",
      "[154]\tvalid_0's mape: 0.00966057\tvalid_0's l2: 0.0202438\n",
      "[155]\tvalid_0's mape: 0.0096625\tvalid_0's l2: 0.0202538\n",
      "[156]\tvalid_0's mape: 0.00966489\tvalid_0's l2: 0.0202694\n",
      "[157]\tvalid_0's mape: 0.00968756\tvalid_0's l2: 0.0203259\n",
      "[158]\tvalid_0's mape: 0.00969029\tvalid_0's l2: 0.0203314\n",
      "[159]\tvalid_0's mape: 0.00969042\tvalid_0's l2: 0.0203316\n",
      "[160]\tvalid_0's mape: 0.00969456\tvalid_0's l2: 0.0203204\n",
      "[161]\tvalid_0's mape: 0.00969664\tvalid_0's l2: 0.0203085\n",
      "[162]\tvalid_0's mape: 0.00969333\tvalid_0's l2: 0.0202963\n",
      "[163]\tvalid_0's mape: 0.00969302\tvalid_0's l2: 0.020284\n",
      "[164]\tvalid_0's mape: 0.0096932\tvalid_0's l2: 0.0203014\n",
      "[165]\tvalid_0's mape: 0.00967947\tvalid_0's l2: 0.0202703\n",
      "[166]\tvalid_0's mape: 0.0096587\tvalid_0's l2: 0.0202211\n",
      "[167]\tvalid_0's mape: 0.00965262\tvalid_0's l2: 0.0202013\n",
      "[168]\tvalid_0's mape: 0.00963799\tvalid_0's l2: 0.020157\n",
      "[169]\tvalid_0's mape: 0.00964186\tvalid_0's l2: 0.0201651\n",
      "[170]\tvalid_0's mape: 0.00963072\tvalid_0's l2: 0.0201226\n",
      "[171]\tvalid_0's mape: 0.00963106\tvalid_0's l2: 0.0201232\n",
      "[172]\tvalid_0's mape: 0.0096333\tvalid_0's l2: 0.0201293\n",
      "[173]\tvalid_0's mape: 0.00963206\tvalid_0's l2: 0.0201289\n",
      "[174]\tvalid_0's mape: 0.00962946\tvalid_0's l2: 0.0201053\n",
      "[175]\tvalid_0's mape: 0.00963131\tvalid_0's l2: 0.0201027\n",
      "[176]\tvalid_0's mape: 0.00961769\tvalid_0's l2: 0.0200596\n",
      "[177]\tvalid_0's mape: 0.0096091\tvalid_0's l2: 0.0200456\n",
      "[178]\tvalid_0's mape: 0.00961352\tvalid_0's l2: 0.0200637\n",
      "[179]\tvalid_0's mape: 0.00960141\tvalid_0's l2: 0.020042\n",
      "[180]\tvalid_0's mape: 0.00961297\tvalid_0's l2: 0.0200911\n",
      "[181]\tvalid_0's mape: 0.00961514\tvalid_0's l2: 0.0200947\n",
      "[182]\tvalid_0's mape: 0.00961706\tvalid_0's l2: 0.0201091\n",
      "[183]\tvalid_0's mape: 0.00961913\tvalid_0's l2: 0.0201064\n",
      "[184]\tvalid_0's mape: 0.00963316\tvalid_0's l2: 0.0201292\n",
      "[185]\tvalid_0's mape: 0.00963077\tvalid_0's l2: 0.0201471\n",
      "[186]\tvalid_0's mape: 0.00963482\tvalid_0's l2: 0.020129\n",
      "[187]\tvalid_0's mape: 0.0096342\tvalid_0's l2: 0.0201317\n",
      "[188]\tvalid_0's mape: 0.00962415\tvalid_0's l2: 0.0201224\n",
      "[189]\tvalid_0's mape: 0.00962293\tvalid_0's l2: 0.0201144\n",
      "[190]\tvalid_0's mape: 0.00962751\tvalid_0's l2: 0.0201192\n",
      "[191]\tvalid_0's mape: 0.00961683\tvalid_0's l2: 0.0200983\n",
      "[192]\tvalid_0's mape: 0.0096139\tvalid_0's l2: 0.0201016\n",
      "[193]\tvalid_0's mape: 0.00961147\tvalid_0's l2: 0.0201078\n",
      "[194]\tvalid_0's mape: 0.0096115\tvalid_0's l2: 0.0201079\n",
      "[195]\tvalid_0's mape: 0.00962418\tvalid_0's l2: 0.0201619\n",
      "[196]\tvalid_0's mape: 0.00962038\tvalid_0's l2: 0.0201618\n",
      "[197]\tvalid_0's mape: 0.00962171\tvalid_0's l2: 0.0201632\n",
      "[198]\tvalid_0's mape: 0.00962692\tvalid_0's l2: 0.0201599\n",
      "[199]\tvalid_0's mape: 0.00963185\tvalid_0's l2: 0.0201807\n",
      "[200]\tvalid_0's mape: 0.00963083\tvalid_0's l2: 0.0201876\n",
      "[201]\tvalid_0's mape: 0.00963092\tvalid_0's l2: 0.0201877\n",
      "[202]\tvalid_0's mape: 0.00963046\tvalid_0's l2: 0.02018\n",
      "[203]\tvalid_0's mape: 0.00963188\tvalid_0's l2: 0.0201711\n",
      "[204]\tvalid_0's mape: 0.00963136\tvalid_0's l2: 0.0201753\n",
      "[205]\tvalid_0's mape: 0.00963141\tvalid_0's l2: 0.0201754\n",
      "[206]\tvalid_0's mape: 0.0096447\tvalid_0's l2: 0.0202247\n",
      "[207]\tvalid_0's mape: 0.00963801\tvalid_0's l2: 0.0202108\n",
      "[208]\tvalid_0's mape: 0.00964179\tvalid_0's l2: 0.0202122\n",
      "[209]\tvalid_0's mape: 0.00963654\tvalid_0's l2: 0.0201689\n",
      "[210]\tvalid_0's mape: 0.00964117\tvalid_0's l2: 0.020162\n",
      "[211]\tvalid_0's mape: 0.0096413\tvalid_0's l2: 0.0201623\n",
      "[212]\tvalid_0's mape: 0.00964058\tvalid_0's l2: 0.0201629\n",
      "[213]\tvalid_0's mape: 0.00965004\tvalid_0's l2: 0.0202022\n",
      "[214]\tvalid_0's mape: 0.00964915\tvalid_0's l2: 0.0201934\n"
     ]
    },
    {
     "name": "stdout",
     "output_type": "stream",
     "text": [
      "[215]\tvalid_0's mape: 0.00964797\tvalid_0's l2: 0.0201908\n",
      "[216]\tvalid_0's mape: 0.00964191\tvalid_0's l2: 0.0201664\n",
      "[217]\tvalid_0's mape: 0.00963266\tvalid_0's l2: 0.0201376\n",
      "[218]\tvalid_0's mape: 0.00963331\tvalid_0's l2: 0.020137\n",
      "[219]\tvalid_0's mape: 0.00963963\tvalid_0's l2: 0.0201424\n",
      "[220]\tvalid_0's mape: 0.00964268\tvalid_0's l2: 0.0201415\n",
      "[221]\tvalid_0's mape: 0.0096432\tvalid_0's l2: 0.0201482\n",
      "[222]\tvalid_0's mape: 0.00964272\tvalid_0's l2: 0.0201422\n",
      "[223]\tvalid_0's mape: 0.00964663\tvalid_0's l2: 0.0201515\n",
      "[224]\tvalid_0's mape: 0.00965966\tvalid_0's l2: 0.0201667\n",
      "[225]\tvalid_0's mape: 0.00965235\tvalid_0's l2: 0.0201383\n",
      "[226]\tvalid_0's mape: 0.00965156\tvalid_0's l2: 0.0201332\n",
      "[227]\tvalid_0's mape: 0.00966217\tvalid_0's l2: 0.0201531\n",
      "[228]\tvalid_0's mape: 0.00966275\tvalid_0's l2: 0.020154\n",
      "[229]\tvalid_0's mape: 0.00965827\tvalid_0's l2: 0.0201568\n",
      "[230]\tvalid_0's mape: 0.00965868\tvalid_0's l2: 0.0201478\n",
      "[231]\tvalid_0's mape: 0.00965576\tvalid_0's l2: 0.0201368\n",
      "[232]\tvalid_0's mape: 0.00965694\tvalid_0's l2: 0.0201356\n",
      "[233]\tvalid_0's mape: 0.0096533\tvalid_0's l2: 0.0201147\n",
      "[234]\tvalid_0's mape: 0.00965331\tvalid_0's l2: 0.0201147\n",
      "[235]\tvalid_0's mape: 0.00966231\tvalid_0's l2: 0.02014\n",
      "[236]\tvalid_0's mape: 0.00966618\tvalid_0's l2: 0.020143\n",
      "[237]\tvalid_0's mape: 0.00965738\tvalid_0's l2: 0.020117\n",
      "[238]\tvalid_0's mape: 0.00965691\tvalid_0's l2: 0.0201307\n",
      "[239]\tvalid_0's mape: 0.00965688\tvalid_0's l2: 0.020136\n",
      "[240]\tvalid_0's mape: 0.00965382\tvalid_0's l2: 0.0201279\n",
      "[241]\tvalid_0's mape: 0.00966039\tvalid_0's l2: 0.0201625\n",
      "[242]\tvalid_0's mape: 0.0096601\tvalid_0's l2: 0.0201578\n",
      "[243]\tvalid_0's mape: 0.00965414\tvalid_0's l2: 0.02014\n",
      "[244]\tvalid_0's mape: 0.00965002\tvalid_0's l2: 0.020122\n",
      "[245]\tvalid_0's mape: 0.0096525\tvalid_0's l2: 0.020127\n",
      "[246]\tvalid_0's mape: 0.00965767\tvalid_0's l2: 0.0201528\n",
      "[247]\tvalid_0's mape: 0.00965931\tvalid_0's l2: 0.0201642\n",
      "[248]\tvalid_0's mape: 0.00965616\tvalid_0's l2: 0.020152\n",
      "[249]\tvalid_0's mape: 0.00965412\tvalid_0's l2: 0.0201503\n",
      "[250]\tvalid_0's mape: 0.00966939\tvalid_0's l2: 0.0202517\n",
      "[251]\tvalid_0's mape: 0.00966335\tvalid_0's l2: 0.0202502\n",
      "[252]\tvalid_0's mape: 0.00965619\tvalid_0's l2: 0.0202384\n",
      "[253]\tvalid_0's mape: 0.00964356\tvalid_0's l2: 0.0202033\n",
      "[254]\tvalid_0's mape: 0.0096521\tvalid_0's l2: 0.0202401\n",
      "[255]\tvalid_0's mape: 0.00965836\tvalid_0's l2: 0.020251\n",
      "[256]\tvalid_0's mape: 0.00965125\tvalid_0's l2: 0.0202201\n",
      "[257]\tvalid_0's mape: 0.00964835\tvalid_0's l2: 0.020212\n",
      "[258]\tvalid_0's mape: 0.00965033\tvalid_0's l2: 0.0202189\n",
      "[259]\tvalid_0's mape: 0.0096555\tvalid_0's l2: 0.0202304\n",
      "[260]\tvalid_0's mape: 0.00966068\tvalid_0's l2: 0.0202418\n",
      "[261]\tvalid_0's mape: 0.0096637\tvalid_0's l2: 0.0202484\n",
      "[262]\tvalid_0's mape: 0.00966694\tvalid_0's l2: 0.0202579\n",
      "[263]\tvalid_0's mape: 0.00966904\tvalid_0's l2: 0.0202652\n",
      "[264]\tvalid_0's mape: 0.00967037\tvalid_0's l2: 0.0202616\n",
      "[265]\tvalid_0's mape: 0.00967225\tvalid_0's l2: 0.0202625\n",
      "[266]\tvalid_0's mape: 0.00967282\tvalid_0's l2: 0.0202711\n",
      "[267]\tvalid_0's mape: 0.00967041\tvalid_0's l2: 0.0202686\n",
      "[268]\tvalid_0's mape: 0.0096707\tvalid_0's l2: 0.0202704\n",
      "[269]\tvalid_0's mape: 0.00967185\tvalid_0's l2: 0.0202726\n",
      "[270]\tvalid_0's mape: 0.00967403\tvalid_0's l2: 0.0202711\n",
      "[271]\tvalid_0's mape: 0.00967612\tvalid_0's l2: 0.0202981\n",
      "[272]\tvalid_0's mape: 0.00967628\tvalid_0's l2: 0.0202985\n",
      "[273]\tvalid_0's mape: 0.00967546\tvalid_0's l2: 0.020295\n",
      "[274]\tvalid_0's mape: 0.00967643\tvalid_0's l2: 0.0202972\n",
      "[275]\tvalid_0's mape: 0.0096796\tvalid_0's l2: 0.020305\n",
      "Early stopping, best iteration is:\n",
      "[75]\tvalid_0's mape: 0.00952361\tvalid_0's l2: 0.019333\n"
     ]
    },
    {
     "data": {
      "text/plain": [
       "LGBMRegressor(n_estimators=800)"
      ]
     },
     "execution_count": 34,
     "metadata": {},
     "output_type": "execute_result"
    }
   ],
   "source": [
    "lgb = LGBMRegressor(n_estimators=800)\n",
    "train = prediction_train[prediction_train.Date < '2019-05-11']\n",
    "val = prediction_train[prediction_train.Date > '2019-05-11']\n",
    "lgb.fit(train[cols], train.target, eval_set=[(val[cols], val.target)], eval_metric='mape', \n",
    "        early_stopping_rounds=200, categorical_feature=['sku'])"
   ]
  },
  {
   "cell_type": "code",
   "execution_count": 35,
   "metadata": {},
   "outputs": [],
   "source": [
    "prediction_test['ensemble'] = lgb.predict(prediction_test[cols], num_iteration=lgb.best_iteration_)"
   ]
  },
  {
   "cell_type": "code",
   "execution_count": 209,
   "metadata": {},
   "outputs": [],
   "source": [
    "prediction_test['ensemble'] = reg.predict(prediction_test[cols]) / sum(reg.coef_)\n",
    "prediction_test['ensemble'] = np.expm1(prediction_test.ensemble)"
   ]
  },
  {
   "cell_type": "code",
   "execution_count": 210,
   "metadata": {},
   "outputs": [],
   "source": [
    "prediction_test.ensemble = round(prediction_test.ensemble)"
   ]
  },
  {
   "cell_type": "code",
   "execution_count": 211,
   "metadata": {},
   "outputs": [],
   "source": [
    "from metrics.MAPE import MAPE"
   ]
  },
  {
   "cell_type": "code",
   "execution_count": 212,
   "metadata": {},
   "outputs": [
    {
     "data": {
      "text/plain": [
       "5.2436890933152736"
      ]
     },
     "execution_count": 212,
     "metadata": {},
     "output_type": "execute_result"
    }
   ],
   "source": [
    "MAPE(prediction_test[~prediction_test.target.isna()].real_target, prediction_test[~prediction_test.target.isna()].ensemble)"
   ]
  },
  {
   "cell_type": "code",
   "execution_count": 213,
   "metadata": {},
   "outputs": [
    {
     "data": {
      "text/plain": [
       "Index(['log_prediction_lgb_cls', 'log_prediction_lgb_std',\n",
       "       'log_prediction_cat_std', 'log_prediction_cat_cls',\n",
       "       'log_prediction_linear_reg'],\n",
       "      dtype='object')"
      ]
     },
     "execution_count": 213,
     "metadata": {},
     "output_type": "execute_result"
    }
   ],
   "source": [
    "prediction_train[cols].columns"
   ]
  },
  {
   "cell_type": "code",
   "execution_count": 214,
   "metadata": {},
   "outputs": [
    {
     "data": {
      "text/plain": [
       "array([0.0328162 , 0.16261115, 0.03310335, 0.10411719, 0.67143726])"
      ]
     },
     "execution_count": 214,
     "metadata": {},
     "output_type": "execute_result"
    }
   ],
   "source": [
    "reg.coef_"
   ]
  },
  {
   "cell_type": "code",
   "execution_count": 129,
   "metadata": {},
   "outputs": [],
   "source": [
    "dates = prediction_train.Date.sort_values().drop_duplicates()"
   ]
  },
  {
   "cell_type": "code",
   "execution_count": 71,
   "metadata": {},
   "outputs": [
    {
     "data": {
      "text/plain": [
       "{Timestamp('2016-12-24 00:00:00'): 14.415419882614295,\n",
       " Timestamp('2016-12-31 00:00:00'): 45.562330082885005,\n",
       " Timestamp('2017-01-07 00:00:00'): 29.664381922703964,\n",
       " Timestamp('2017-01-14 00:00:00'): 27.541497877295473,\n",
       " Timestamp('2017-01-21 00:00:00'): 8.17772527419612,\n",
       " Timestamp('2017-01-28 00:00:00'): 6.301667653505562,\n",
       " Timestamp('2017-02-04 00:00:00'): 7.296266085058717,\n",
       " Timestamp('2017-02-11 00:00:00'): 10.796785933974483,\n",
       " Timestamp('2017-02-18 00:00:00'): 7.505157553437786,\n",
       " Timestamp('2017-02-25 00:00:00'): 4.86994972510147,\n",
       " Timestamp('2017-03-04 00:00:00'): 11.052292530335848,\n",
       " Timestamp('2017-03-11 00:00:00'): 8.44162649600763,\n",
       " Timestamp('2017-03-18 00:00:00'): 5.199012882941633,\n",
       " Timestamp('2017-03-25 00:00:00'): 17.919341595070225,\n",
       " Timestamp('2017-04-01 00:00:00'): 12.064057094624292,\n",
       " Timestamp('2017-04-08 00:00:00'): 10.196188944728227,\n",
       " Timestamp('2017-04-15 00:00:00'): 15.817711369351656,\n",
       " Timestamp('2017-04-22 00:00:00'): 14.63200076824852,\n",
       " Timestamp('2017-04-29 00:00:00'): 20.803374313070336,\n",
       " Timestamp('2017-05-06 00:00:00'): 10.882608905389242,\n",
       " Timestamp('2017-05-13 00:00:00'): 6.115670668084093,\n",
       " Timestamp('2017-05-20 00:00:00'): 7.367195087148423,\n",
       " Timestamp('2017-05-27 00:00:00'): 10.96967188056253,\n",
       " Timestamp('2017-06-03 00:00:00'): 10.224476900678994,\n",
       " Timestamp('2017-06-10 00:00:00'): 10.501320598955303,\n",
       " Timestamp('2017-06-17 00:00:00'): 10.010179038512826,\n",
       " Timestamp('2017-06-24 00:00:00'): 9.432257612374595,\n",
       " Timestamp('2017-07-01 00:00:00'): 8.941650425631302,\n",
       " Timestamp('2017-07-08 00:00:00'): 14.831112526193237,\n",
       " Timestamp('2017-07-15 00:00:00'): 12.99254646018466,\n",
       " Timestamp('2017-07-22 00:00:00'): 8.94612104471343,\n",
       " Timestamp('2017-07-29 00:00:00'): 13.213934956817086,\n",
       " Timestamp('2017-08-05 00:00:00'): 6.155696638970076,\n",
       " Timestamp('2017-08-12 00:00:00'): 6.418700355452242,\n",
       " Timestamp('2017-08-19 00:00:00'): 20.298777732294152,\n",
       " Timestamp('2017-08-26 00:00:00'): 19.54126276732529,\n",
       " Timestamp('2017-09-02 00:00:00'): 10.788780945743353,\n",
       " Timestamp('2017-09-09 00:00:00'): 13.420044431622069,\n",
       " Timestamp('2017-09-16 00:00:00'): 9.182935736257965,\n",
       " Timestamp('2017-09-23 00:00:00'): 5.473523847185685,\n",
       " Timestamp('2017-09-30 00:00:00'): 11.499766686655366,\n",
       " Timestamp('2017-10-07 00:00:00'): 5.66258538605925,\n",
       " Timestamp('2017-10-14 00:00:00'): 6.716871892932747,\n",
       " Timestamp('2017-10-21 00:00:00'): 5.865935764921771,\n",
       " Timestamp('2017-10-28 00:00:00'): 5.015963631435499,\n",
       " Timestamp('2017-11-04 00:00:00'): 7.330560230248653,\n",
       " Timestamp('2017-11-11 00:00:00'): 12.717069669242747,\n",
       " Timestamp('2017-11-18 00:00:00'): 7.632184373140364,\n",
       " Timestamp('2017-11-25 00:00:00'): 5.700803649027325,\n",
       " Timestamp('2017-12-02 00:00:00'): 8.911273131099612,\n",
       " Timestamp('2017-12-09 00:00:00'): 8.067911937158865,\n",
       " Timestamp('2017-12-16 00:00:00'): 14.214088103223085,\n",
       " Timestamp('2017-12-23 00:00:00'): 10.986997232317128,\n",
       " Timestamp('2017-12-30 00:00:00'): 47.27648345862166,\n",
       " Timestamp('2018-01-06 00:00:00'): 13.081721189843712,\n",
       " Timestamp('2018-01-13 00:00:00'): 12.630017494849152,\n",
       " Timestamp('2018-01-20 00:00:00'): 7.562258385539604,\n",
       " Timestamp('2018-01-27 00:00:00'): 5.40542406989177,\n",
       " Timestamp('2018-02-03 00:00:00'): 9.286616488061346,\n",
       " Timestamp('2018-02-10 00:00:00'): 5.329777660590137,\n",
       " Timestamp('2018-02-17 00:00:00'): 7.112881468383921,\n",
       " Timestamp('2018-02-24 00:00:00'): 6.910623676116972,\n",
       " Timestamp('2018-03-03 00:00:00'): 8.186520974084726,\n",
       " Timestamp('2018-03-10 00:00:00'): 7.545910178430434,\n",
       " Timestamp('2018-03-17 00:00:00'): 9.620143618939135,\n",
       " Timestamp('2018-03-24 00:00:00'): 6.455095957525911,\n",
       " Timestamp('2018-03-31 00:00:00'): 5.181956849621091,\n",
       " Timestamp('2018-04-07 00:00:00'): 28.60893953492515,\n",
       " Timestamp('2018-04-14 00:00:00'): 12.752023217639467,\n",
       " Timestamp('2018-04-21 00:00:00'): 8.266244203953635,\n",
       " Timestamp('2018-04-28 00:00:00'): 12.548603346879664,\n",
       " Timestamp('2018-05-05 00:00:00'): 8.26309840472501,\n",
       " Timestamp('2018-05-12 00:00:00'): 6.962855198128224,\n",
       " Timestamp('2018-05-19 00:00:00'): 8.18506527211961,\n",
       " Timestamp('2018-05-26 00:00:00'): 10.741186560227321,\n",
       " Timestamp('2018-06-02 00:00:00'): 7.485351593479217,\n",
       " Timestamp('2018-06-09 00:00:00'): 7.564192748388951,\n",
       " Timestamp('2018-06-16 00:00:00'): 6.972390528511936,\n",
       " Timestamp('2018-06-23 00:00:00'): 7.517628921395329,\n",
       " Timestamp('2018-06-30 00:00:00'): 7.261488255163255,\n",
       " Timestamp('2018-07-07 00:00:00'): 7.781567241508977,\n",
       " Timestamp('2018-07-14 00:00:00'): 6.308075489864804,\n",
       " Timestamp('2018-07-21 00:00:00'): 7.425521061881874,\n",
       " Timestamp('2018-07-28 00:00:00'): 4.511513499490716,\n",
       " Timestamp('2018-08-04 00:00:00'): 4.511880238381741,\n",
       " Timestamp('2018-08-11 00:00:00'): 9.968421477647988,\n",
       " Timestamp('2018-08-18 00:00:00'): 8.827076083124556,\n",
       " Timestamp('2018-08-25 00:00:00'): 8.10172665551697,\n",
       " Timestamp('2018-09-01 00:00:00'): 8.175380708636,\n",
       " Timestamp('2018-09-08 00:00:00'): 5.7595725111445155,\n",
       " Timestamp('2018-09-15 00:00:00'): 6.666116566484377,\n",
       " Timestamp('2018-09-22 00:00:00'): 5.754661560104966,\n",
       " Timestamp('2018-09-29 00:00:00'): 6.129333887675543,\n",
       " Timestamp('2018-10-06 00:00:00'): 4.074499956075265,\n",
       " Timestamp('2018-10-13 00:00:00'): 6.005155756231769,\n",
       " Timestamp('2018-10-20 00:00:00'): 5.031214645767124,\n",
       " Timestamp('2018-10-27 00:00:00'): 5.037539669152936,\n",
       " Timestamp('2018-11-03 00:00:00'): 8.421911433181577,\n",
       " Timestamp('2018-11-10 00:00:00'): 7.310744884891125,\n",
       " Timestamp('2018-11-17 00:00:00'): 5.958595703830541,\n",
       " Timestamp('2018-11-24 00:00:00'): 6.847723153694026,\n",
       " Timestamp('2018-12-01 00:00:00'): 3.66353344282653,\n",
       " Timestamp('2018-12-08 00:00:00'): 5.085823404876921,\n",
       " Timestamp('2018-12-15 00:00:00'): 5.950713242577656,\n",
       " Timestamp('2018-12-22 00:00:00'): 4.473469568765384,\n",
       " Timestamp('2018-12-29 00:00:00'): 19.111698045580784,\n",
       " Timestamp('2019-01-05 00:00:00'): 7.731642381429467,\n",
       " Timestamp('2019-01-12 00:00:00'): 11.960564912348316,\n",
       " Timestamp('2019-01-19 00:00:00'): 7.674795837825943,\n",
       " Timestamp('2019-01-26 00:00:00'): 10.979306184351312,\n",
       " Timestamp('2019-02-02 00:00:00'): 18.478639089601156,\n",
       " Timestamp('2019-02-09 00:00:00'): 9.15465908009396,\n",
       " Timestamp('2019-02-16 00:00:00'): 9.326488782783152,\n",
       " Timestamp('2019-02-23 00:00:00'): 10.363090705640296,\n",
       " Timestamp('2019-03-02 00:00:00'): 10.509376889157092,\n",
       " Timestamp('2019-03-09 00:00:00'): 11.747752094289943,\n",
       " Timestamp('2019-03-16 00:00:00'): 13.019165400241551,\n",
       " Timestamp('2019-03-23 00:00:00'): 5.204869743864452,\n",
       " Timestamp('2019-03-30 00:00:00'): 4.906352317246272,\n",
       " Timestamp('2019-04-06 00:00:00'): 5.7097562473343615,\n",
       " Timestamp('2019-04-13 00:00:00'): 6.240192471903018,\n",
       " Timestamp('2019-04-20 00:00:00'): 5.40113253890239,\n",
       " Timestamp('2019-04-27 00:00:00'): 11.369271807035593,\n",
       " Timestamp('2019-05-04 00:00:00'): 11.838342514576809,\n",
       " Timestamp('2019-05-11 00:00:00'): 10.793176212382773,\n",
       " Timestamp('2019-05-18 00:00:00'): 13.610752693554549,\n",
       " Timestamp('2019-05-25 00:00:00'): 8.032928712158219,\n",
       " Timestamp('2019-06-01 00:00:00'): 12.647759707757256,\n",
       " Timestamp('2019-06-08 00:00:00'): 9.942178874980884,\n",
       " Timestamp('2019-06-15 00:00:00'): 5.571062311958649,\n",
       " Timestamp('2019-06-22 00:00:00'): 12.615644560749137}"
      ]
     },
     "execution_count": 71,
     "metadata": {},
     "output_type": "execute_result"
    }
   ],
   "source": [
    "mapes = {}\n",
    "for d in dates:\n",
    "    mask = prediction_train.Date == d\n",
    "    mapes[d] = MAPE(prediction_train[mask].real_target, prediction_train[mask].prediction_cat_std)\n",
    "mapes"
   ]
  }
 ],
 "metadata": {
  "kernelspec": {
   "display_name": "Python 3",
   "language": "python",
   "name": "python3"
  },
  "language_info": {
   "codemirror_mode": {
    "name": "ipython",
    "version": 3
   },
   "file_extension": ".py",
   "mimetype": "text/x-python",
   "name": "python",
   "nbconvert_exporter": "python",
   "pygments_lexer": "ipython3",
   "version": "3.7.7"
  }
 },
 "nbformat": 4,
 "nbformat_minor": 2
}
