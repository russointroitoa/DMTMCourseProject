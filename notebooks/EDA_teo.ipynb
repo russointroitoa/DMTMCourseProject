{
 "cells": [
  {
   "cell_type": "code",
   "execution_count": 1,
   "metadata": {},
   "outputs": [
    {
     "data": {
      "text/html": [
       "<div>\n",
       "<style scoped>\n",
       "    .dataframe tbody tr th:only-of-type {\n",
       "        vertical-align: middle;\n",
       "    }\n",
       "\n",
       "    .dataframe tbody tr th {\n",
       "        vertical-align: top;\n",
       "    }\n",
       "\n",
       "    .dataframe thead th {\n",
       "        text-align: right;\n",
       "    }\n",
       "</style>\n",
       "<table border=\"1\" class=\"dataframe\">\n",
       "  <thead>\n",
       "    <tr style=\"text-align: right;\">\n",
       "      <th></th>\n",
       "      <th>Unnamed: 0</th>\n",
       "      <th>sku</th>\n",
       "      <th>pack</th>\n",
       "      <th>size (GM)</th>\n",
       "      <th>brand</th>\n",
       "      <th>price</th>\n",
       "      <th>POS_exposed w-1</th>\n",
       "      <th>volume_on_promo w-1</th>\n",
       "      <th>sales w-1</th>\n",
       "      <th>scope</th>\n",
       "      <th>target</th>\n",
       "    </tr>\n",
       "  </thead>\n",
       "  <tbody>\n",
       "    <tr>\n",
       "      <th>0</th>\n",
       "      <td>WE 10 December 2016</td>\n",
       "      <td>2689</td>\n",
       "      <td>SINGLE</td>\n",
       "      <td>395.41</td>\n",
       "      <td>BRAND1</td>\n",
       "      <td>1.16</td>\n",
       "      <td>NaN</td>\n",
       "      <td>NaN</td>\n",
       "      <td>NaN</td>\n",
       "      <td>0</td>\n",
       "      <td>24175.0</td>\n",
       "    </tr>\n",
       "    <tr>\n",
       "      <th>1</th>\n",
       "      <td>WE 17 December 2016</td>\n",
       "      <td>2689</td>\n",
       "      <td>SINGLE</td>\n",
       "      <td>395.41</td>\n",
       "      <td>BRAND1</td>\n",
       "      <td>1.15</td>\n",
       "      <td>1.0</td>\n",
       "      <td>17.676112</td>\n",
       "      <td>24175.0</td>\n",
       "      <td>0</td>\n",
       "      <td>23521.0</td>\n",
       "    </tr>\n",
       "    <tr>\n",
       "      <th>2</th>\n",
       "      <td>WE 24 December 2016</td>\n",
       "      <td>2689</td>\n",
       "      <td>SINGLE</td>\n",
       "      <td>395.41</td>\n",
       "      <td>BRAND1</td>\n",
       "      <td>1.16</td>\n",
       "      <td>1.0</td>\n",
       "      <td>24.482803</td>\n",
       "      <td>23521.0</td>\n",
       "      <td>0</td>\n",
       "      <td>22075.0</td>\n",
       "    </tr>\n",
       "    <tr>\n",
       "      <th>3</th>\n",
       "      <td>WE 31 December 2016</td>\n",
       "      <td>2689</td>\n",
       "      <td>SINGLE</td>\n",
       "      <td>395.41</td>\n",
       "      <td>BRAND1</td>\n",
       "      <td>1.16</td>\n",
       "      <td>0.0</td>\n",
       "      <td>19.410646</td>\n",
       "      <td>22075.0</td>\n",
       "      <td>0</td>\n",
       "      <td>16492.0</td>\n",
       "    </tr>\n",
       "    <tr>\n",
       "      <th>4</th>\n",
       "      <td>WE 07 January 2017</td>\n",
       "      <td>2689</td>\n",
       "      <td>SINGLE</td>\n",
       "      <td>395.41</td>\n",
       "      <td>BRAND1</td>\n",
       "      <td>1.16</td>\n",
       "      <td>0.0</td>\n",
       "      <td>29.812030</td>\n",
       "      <td>16492.0</td>\n",
       "      <td>0</td>\n",
       "      <td>25971.0</td>\n",
       "    </tr>\n",
       "  </tbody>\n",
       "</table>\n",
       "</div>"
      ],
      "text/plain": [
       "            Unnamed: 0   sku    pack  size (GM)   brand  price  \\\n",
       "0  WE 10 December 2016  2689  SINGLE     395.41  BRAND1   1.16   \n",
       "1  WE 17 December 2016  2689  SINGLE     395.41  BRAND1   1.15   \n",
       "2  WE 24 December 2016  2689  SINGLE     395.41  BRAND1   1.16   \n",
       "3  WE 31 December 2016  2689  SINGLE     395.41  BRAND1   1.16   \n",
       "4   WE 07 January 2017  2689  SINGLE     395.41  BRAND1   1.16   \n",
       "\n",
       "   POS_exposed w-1  volume_on_promo w-1  sales w-1  scope   target  \n",
       "0              NaN                  NaN        NaN      0  24175.0  \n",
       "1              1.0            17.676112    24175.0      0  23521.0  \n",
       "2              1.0            24.482803    23521.0      0  22075.0  \n",
       "3              0.0            19.410646    22075.0      0  16492.0  \n",
       "4              0.0            29.812030    16492.0      0  25971.0  "
      ]
     },
     "execution_count": 1,
     "metadata": {},
     "output_type": "execute_result"
    }
   ],
   "source": [
    "import pandas as pd\n",
    "import lightgbm as lgb\n",
    "import numpy as np\n",
    "from datetime import datetime, date, timedelta\n",
    "df_train = pd.read_csv(\"../dataset/train.csv\")\n",
    "\n",
    "df_train.head()"
   ]
  },
  {
   "cell_type": "code",
   "execution_count": 2,
   "metadata": {},
   "outputs": [],
   "source": [
    "def mean_absolute_percentage_error(y_true, y_pred): \n",
    "    y_true, y_pred = np.array(y_true), np.array(y_pred)\n",
    "    return np.mean(np.abs((y_true - y_pred) / y_true)) * 100"
   ]
  },
  {
   "cell_type": "code",
   "execution_count": 3,
   "metadata": {},
   "outputs": [],
   "source": [
    "date_list = [[x.split(\" \")[1],x.split(\" \")[2], x.split(\" \")[3]] for x in df_train[\"Unnamed: 0\"]]"
   ]
  },
  {
   "cell_type": "code",
   "execution_count": 4,
   "metadata": {},
   "outputs": [],
   "source": [
    "df_train['day'] = [int(x[0]) for x in date_list]\n",
    "df_train['month'] = [int(datetime.strptime(x[1], \"%B\").month) for x in date_list]\n",
    "df_train['year'] = [int(x[2]) for x in date_list]"
   ]
  },
  {
   "cell_type": "code",
   "execution_count": 5,
   "metadata": {},
   "outputs": [],
   "source": [
    "df_train = df_train.drop(['Unnamed: 0'], axis=1)"
   ]
  },
  {
   "cell_type": "code",
   "execution_count": 6,
   "metadata": {},
   "outputs": [
    {
     "data": {
      "text/html": [
       "<div>\n",
       "<style scoped>\n",
       "    .dataframe tbody tr th:only-of-type {\n",
       "        vertical-align: middle;\n",
       "    }\n",
       "\n",
       "    .dataframe tbody tr th {\n",
       "        vertical-align: top;\n",
       "    }\n",
       "\n",
       "    .dataframe thead th {\n",
       "        text-align: right;\n",
       "    }\n",
       "</style>\n",
       "<table border=\"1\" class=\"dataframe\">\n",
       "  <thead>\n",
       "    <tr style=\"text-align: right;\">\n",
       "      <th></th>\n",
       "      <th>sku</th>\n",
       "      <th>pack</th>\n",
       "      <th>size (GM)</th>\n",
       "      <th>brand</th>\n",
       "      <th>price</th>\n",
       "      <th>POS_exposed w-1</th>\n",
       "      <th>volume_on_promo w-1</th>\n",
       "      <th>sales w-1</th>\n",
       "      <th>scope</th>\n",
       "      <th>target</th>\n",
       "      <th>day</th>\n",
       "      <th>month</th>\n",
       "      <th>year</th>\n",
       "    </tr>\n",
       "  </thead>\n",
       "  <tbody>\n",
       "    <tr>\n",
       "      <th>0</th>\n",
       "      <td>2689</td>\n",
       "      <td>SINGLE</td>\n",
       "      <td>395.41</td>\n",
       "      <td>BRAND1</td>\n",
       "      <td>1.16</td>\n",
       "      <td>NaN</td>\n",
       "      <td>NaN</td>\n",
       "      <td>NaN</td>\n",
       "      <td>0</td>\n",
       "      <td>24175.0</td>\n",
       "      <td>10</td>\n",
       "      <td>12</td>\n",
       "      <td>2016</td>\n",
       "    </tr>\n",
       "    <tr>\n",
       "      <th>1</th>\n",
       "      <td>2689</td>\n",
       "      <td>SINGLE</td>\n",
       "      <td>395.41</td>\n",
       "      <td>BRAND1</td>\n",
       "      <td>1.15</td>\n",
       "      <td>1.0</td>\n",
       "      <td>17.676112</td>\n",
       "      <td>24175.0</td>\n",
       "      <td>0</td>\n",
       "      <td>23521.0</td>\n",
       "      <td>17</td>\n",
       "      <td>12</td>\n",
       "      <td>2016</td>\n",
       "    </tr>\n",
       "    <tr>\n",
       "      <th>2</th>\n",
       "      <td>2689</td>\n",
       "      <td>SINGLE</td>\n",
       "      <td>395.41</td>\n",
       "      <td>BRAND1</td>\n",
       "      <td>1.16</td>\n",
       "      <td>1.0</td>\n",
       "      <td>24.482803</td>\n",
       "      <td>23521.0</td>\n",
       "      <td>0</td>\n",
       "      <td>22075.0</td>\n",
       "      <td>24</td>\n",
       "      <td>12</td>\n",
       "      <td>2016</td>\n",
       "    </tr>\n",
       "    <tr>\n",
       "      <th>3</th>\n",
       "      <td>2689</td>\n",
       "      <td>SINGLE</td>\n",
       "      <td>395.41</td>\n",
       "      <td>BRAND1</td>\n",
       "      <td>1.16</td>\n",
       "      <td>0.0</td>\n",
       "      <td>19.410646</td>\n",
       "      <td>22075.0</td>\n",
       "      <td>0</td>\n",
       "      <td>16492.0</td>\n",
       "      <td>31</td>\n",
       "      <td>12</td>\n",
       "      <td>2016</td>\n",
       "    </tr>\n",
       "    <tr>\n",
       "      <th>4</th>\n",
       "      <td>2689</td>\n",
       "      <td>SINGLE</td>\n",
       "      <td>395.41</td>\n",
       "      <td>BRAND1</td>\n",
       "      <td>1.16</td>\n",
       "      <td>0.0</td>\n",
       "      <td>29.812030</td>\n",
       "      <td>16492.0</td>\n",
       "      <td>0</td>\n",
       "      <td>25971.0</td>\n",
       "      <td>7</td>\n",
       "      <td>1</td>\n",
       "      <td>2017</td>\n",
       "    </tr>\n",
       "  </tbody>\n",
       "</table>\n",
       "</div>"
      ],
      "text/plain": [
       "    sku    pack  size (GM)   brand  price  POS_exposed w-1  \\\n",
       "0  2689  SINGLE     395.41  BRAND1   1.16              NaN   \n",
       "1  2689  SINGLE     395.41  BRAND1   1.15              1.0   \n",
       "2  2689  SINGLE     395.41  BRAND1   1.16              1.0   \n",
       "3  2689  SINGLE     395.41  BRAND1   1.16              0.0   \n",
       "4  2689  SINGLE     395.41  BRAND1   1.16              0.0   \n",
       "\n",
       "   volume_on_promo w-1  sales w-1  scope   target  day  month  year  \n",
       "0                  NaN        NaN      0  24175.0   10     12  2016  \n",
       "1            17.676112    24175.0      0  23521.0   17     12  2016  \n",
       "2            24.482803    23521.0      0  22075.0   24     12  2016  \n",
       "3            19.410646    22075.0      0  16492.0   31     12  2016  \n",
       "4            29.812030    16492.0      0  25971.0    7      1  2017  "
      ]
     },
     "execution_count": 6,
     "metadata": {},
     "output_type": "execute_result"
    }
   ],
   "source": [
    "df_train.head()"
   ]
  },
  {
   "cell_type": "code",
   "execution_count": 7,
   "metadata": {},
   "outputs": [],
   "source": [
    "df_train = df_train.fillna(0)"
   ]
  },
  {
   "cell_type": "code",
   "execution_count": 8,
   "metadata": {},
   "outputs": [],
   "source": [
    "df_train = df_train.sort_values(by=['year','month','day']).reset_index(drop=True)"
   ]
  },
  {
   "cell_type": "code",
   "execution_count": 9,
   "metadata": {},
   "outputs": [
    {
     "data": {
      "text/html": [
       "<div>\n",
       "<style scoped>\n",
       "    .dataframe tbody tr th:only-of-type {\n",
       "        vertical-align: middle;\n",
       "    }\n",
       "\n",
       "    .dataframe tbody tr th {\n",
       "        vertical-align: top;\n",
       "    }\n",
       "\n",
       "    .dataframe thead th {\n",
       "        text-align: right;\n",
       "    }\n",
       "</style>\n",
       "<table border=\"1\" class=\"dataframe\">\n",
       "  <thead>\n",
       "    <tr style=\"text-align: right;\">\n",
       "      <th></th>\n",
       "      <th>sku</th>\n",
       "      <th>pack</th>\n",
       "      <th>size (GM)</th>\n",
       "      <th>brand</th>\n",
       "      <th>price</th>\n",
       "      <th>POS_exposed w-1</th>\n",
       "      <th>volume_on_promo w-1</th>\n",
       "      <th>sales w-1</th>\n",
       "      <th>scope</th>\n",
       "      <th>target</th>\n",
       "      <th>day</th>\n",
       "      <th>month</th>\n",
       "      <th>year</th>\n",
       "    </tr>\n",
       "  </thead>\n",
       "  <tbody>\n",
       "    <tr>\n",
       "      <th>0</th>\n",
       "      <td>2689</td>\n",
       "      <td>SINGLE</td>\n",
       "      <td>395.41</td>\n",
       "      <td>BRAND1</td>\n",
       "      <td>1.16</td>\n",
       "      <td>0.0</td>\n",
       "      <td>0.0</td>\n",
       "      <td>0.0</td>\n",
       "      <td>0</td>\n",
       "      <td>24175.0</td>\n",
       "      <td>10</td>\n",
       "      <td>12</td>\n",
       "      <td>2016</td>\n",
       "    </tr>\n",
       "    <tr>\n",
       "      <th>1</th>\n",
       "      <td>1027</td>\n",
       "      <td>SINGLE</td>\n",
       "      <td>114.23</td>\n",
       "      <td>BRAND2</td>\n",
       "      <td>0.52</td>\n",
       "      <td>0.0</td>\n",
       "      <td>0.0</td>\n",
       "      <td>0.0</td>\n",
       "      <td>1</td>\n",
       "      <td>54158.0</td>\n",
       "      <td>10</td>\n",
       "      <td>12</td>\n",
       "      <td>2016</td>\n",
       "    </tr>\n",
       "    <tr>\n",
       "      <th>2</th>\n",
       "      <td>2696</td>\n",
       "      <td>SINGLE</td>\n",
       "      <td>395.41</td>\n",
       "      <td>BRAND1</td>\n",
       "      <td>1.14</td>\n",
       "      <td>0.0</td>\n",
       "      <td>0.0</td>\n",
       "      <td>0.0</td>\n",
       "      <td>0</td>\n",
       "      <td>14100.0</td>\n",
       "      <td>10</td>\n",
       "      <td>12</td>\n",
       "      <td>2016</td>\n",
       "    </tr>\n",
       "    <tr>\n",
       "      <th>3</th>\n",
       "      <td>2698</td>\n",
       "      <td>SINGLE</td>\n",
       "      <td>395.41</td>\n",
       "      <td>BRAND1</td>\n",
       "      <td>1.13</td>\n",
       "      <td>0.0</td>\n",
       "      <td>0.0</td>\n",
       "      <td>0.0</td>\n",
       "      <td>0</td>\n",
       "      <td>5591.0</td>\n",
       "      <td>10</td>\n",
       "      <td>12</td>\n",
       "      <td>2016</td>\n",
       "    </tr>\n",
       "    <tr>\n",
       "      <th>4</th>\n",
       "      <td>1035</td>\n",
       "      <td>SINGLE</td>\n",
       "      <td>114.23</td>\n",
       "      <td>BRAND2</td>\n",
       "      <td>0.51</td>\n",
       "      <td>0.0</td>\n",
       "      <td>0.0</td>\n",
       "      <td>0.0</td>\n",
       "      <td>1</td>\n",
       "      <td>41870.0</td>\n",
       "      <td>10</td>\n",
       "      <td>12</td>\n",
       "      <td>2016</td>\n",
       "    </tr>\n",
       "  </tbody>\n",
       "</table>\n",
       "</div>"
      ],
      "text/plain": [
       "    sku    pack  size (GM)   brand  price  POS_exposed w-1  \\\n",
       "0  2689  SINGLE     395.41  BRAND1   1.16              0.0   \n",
       "1  1027  SINGLE     114.23  BRAND2   0.52              0.0   \n",
       "2  2696  SINGLE     395.41  BRAND1   1.14              0.0   \n",
       "3  2698  SINGLE     395.41  BRAND1   1.13              0.0   \n",
       "4  1035  SINGLE     114.23  BRAND2   0.51              0.0   \n",
       "\n",
       "   volume_on_promo w-1  sales w-1  scope   target  day  month  year  \n",
       "0                  0.0        0.0      0  24175.0   10     12  2016  \n",
       "1                  0.0        0.0      1  54158.0   10     12  2016  \n",
       "2                  0.0        0.0      0  14100.0   10     12  2016  \n",
       "3                  0.0        0.0      0   5591.0   10     12  2016  \n",
       "4                  0.0        0.0      1  41870.0   10     12  2016  "
      ]
     },
     "execution_count": 9,
     "metadata": {},
     "output_type": "execute_result"
    }
   ],
   "source": [
    "df_train.head()"
   ]
  },
  {
   "cell_type": "code",
   "execution_count": 10,
   "metadata": {},
   "outputs": [],
   "source": [
    "# transf to categorical\n",
    "df_train[\"brand\"] = df_train[\"brand\"].astype('category')\n",
    "df_train[\"brand\"] = df_train[\"brand\"].cat.codes\n",
    "df_train[\"pack\"] = df_train[\"pack\"].astype('category')\n",
    "df_train[\"pack\"] = df_train[\"pack\"].cat.codes"
   ]
  },
  {
   "cell_type": "code",
   "execution_count": 11,
   "metadata": {},
   "outputs": [
    {
     "name": "stderr",
     "output_type": "stream",
     "text": [
      "c:\\users\\blueace17\\appdata\\local\\programs\\python\\python37\\lib\\site-packages\\lightgbm\\basic.py:1295: UserWarning: categorical_feature in Dataset is overridden.\n",
      "New categorical_feature is ['brand', 'day', 'month', 'pack', 'year']\n",
      "  'New categorical_feature is {}'.format(sorted(list(categorical_feature))))\n"
     ]
    },
    {
     "data": {
      "text/plain": [
       "16.49684131218611"
      ]
     },
     "execution_count": 11,
     "metadata": {},
     "output_type": "execute_result"
    }
   ],
   "source": [
    "from sklearn.model_selection import train_test_split\n",
    "X_train, X_test, y_train, y_test = train_test_split(df_train.drop(['target','scope'],axis=1), df_train.target, test_size=0.2, shuffle=False)\n",
    "\n",
    "model = lgb.LGBMRegressor()\n",
    "\n",
    "model.fit(X_train, y_train,  categorical_feature=['pack', 'brand','day','year','month'])\n",
    "\n",
    "y_pred = model.predict(X_test)\n",
    "\n",
    "mean_absolute_percentage_error(y_test, y_pred) # 9.934343915710013 con tutte le features"
   ]
  },
  {
   "cell_type": "markdown",
   "metadata": {},
   "source": [
    "# Natale"
   ]
  },
  {
   "cell_type": "code",
   "execution_count": 12,
   "metadata": {},
   "outputs": [],
   "source": [
    "days_to_christmas = []\n",
    "for d,m,y in zip(df_train.day, df_train.month, df_train.year):\n",
    "    days_to_christmas.append((date(y,12,25)-date(y,m,d)).days)"
   ]
  },
  {
   "cell_type": "code",
   "execution_count": 13,
   "metadata": {},
   "outputs": [],
   "source": [
    "df_train['days_to_christmas'] = days_to_christmas"
   ]
  },
  {
   "cell_type": "code",
   "execution_count": 14,
   "metadata": {},
   "outputs": [
    {
     "data": {
      "text/plain": [
       "13.787627855216572"
      ]
     },
     "execution_count": 14,
     "metadata": {},
     "output_type": "execute_result"
    }
   ],
   "source": [
    "from sklearn.model_selection import train_test_split\n",
    "X_train, X_test, y_train, y_test = train_test_split(df_train.drop(['target','scope'],axis=1), df_train.target, test_size=0.2, shuffle=False)\n",
    "\n",
    "model = lgb.LGBMRegressor()\n",
    "\n",
    "model.fit(X_train, y_train,  categorical_feature=['pack', 'brand','day','year','month'])\n",
    "\n",
    "y_pred = model.predict(X_test)\n",
    "\n",
    "mean_absolute_percentage_error(y_test, y_pred)"
   ]
  },
  {
   "cell_type": "code",
   "execution_count": 25,
   "metadata": {},
   "outputs": [
    {
     "data": {
      "text/plain": [
       "208.00991069972318"
      ]
     },
     "execution_count": 25,
     "metadata": {},
     "output_type": "execute_result"
    }
   ],
   "source": [
    "from sklearn.linear_model import LinearRegression\n",
    "\n",
    "reg = LinearRegression().fit(X_train, y_train)\n",
    "\n",
    "preds = reg.predict(X_test)\n",
    "\n",
    "mean_absolute_percentage_error(preds, y_test)"
   ]
  }
 ],
 "metadata": {
  "kernelspec": {
   "display_name": "Python 3",
   "language": "python",
   "name": "python3"
  },
  "language_info": {
   "codemirror_mode": {
    "name": "ipython",
    "version": 3
   },
   "file_extension": ".py",
   "mimetype": "text/x-python",
   "name": "python",
   "nbconvert_exporter": "python",
   "pygments_lexer": "ipython3",
   "version": "3.7.1"
  }
 },
 "nbformat": 4,
 "nbformat_minor": 2
}
