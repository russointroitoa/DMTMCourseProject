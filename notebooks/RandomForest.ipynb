{
 "cells": [
  {
   "cell_type": "code",
   "execution_count": 1,
   "metadata": {},
   "outputs": [],
   "source": [
    "import os\n",
    "os.chdir('..')\n",
    "import pandas as pd\n",
    "import numpy as np\n",
    "from tqdm import tqdm\n",
    "from algorithms.Model_LightGBM import LightGBM\n",
    "from algorithms.Model_Generator import Generator\n",
    "from warnings import filterwarnings\n",
    "filterwarnings(\"ignore\")\n",
    "from preprocessing.preprocessing import preprocessing\n",
    "from metrics.MAPE import MAPE\n",
    "\n",
    "from utils import add_all_features\n",
    "\n",
    "train = pd.read_csv(\"dataset/original/train.csv\")\n",
    "test = pd.read_csv(\"dataset/original/x_test.csv\")\n",
    "cluster=pd.read_csv(\"dataset/cluster.csv\")"
   ]
  },
  {
   "cell_type": "code",
   "execution_count": 2,
   "metadata": {},
   "outputs": [],
   "source": [
    "useTest = True\n",
    "useScope = True\n",
    "isEvaluation = False\n",
    "useSampleWeights, weights_type = True, 2\n",
    "save = False\n",
    "\n",
    "if isEvaluation:\n",
    "    useTest = False\n",
    "    useScope = False"
   ]
  },
  {
   "cell_type": "code",
   "execution_count": 3,
   "metadata": {},
   "outputs": [
    {
     "name": "stderr",
     "output_type": "stream",
     "text": [
      "6019it [00:00, 7829.42it/s]\n",
      "6019it [00:00, 39232.12it/s]\n",
      "100%|██████████| 43/43 [00:00<00:00, 804.45it/s]\n",
      "25it [01:05,  2.63s/it]"
     ]
    },
    {
     "name": "stdout",
     "output_type": "stream",
     "text": [
      "Index(['Date', 'sku', 'target', 'real_target',\n",
      "       'log_prediction_lgb_no_cluster_1', 'prediction_lgb_no_cluster_1'],\n",
      "      dtype='object')\n",
      "Standard MAPE = 8.745968729353827\n"
     ]
    },
    {
     "name": "stderr",
     "output_type": "stream",
     "text": [
      "\n"
     ]
    }
   ],
   "source": [
    "df = preprocessing(train, test, useTest=useTest)\n",
    "\n",
    "df, categorical_f = add_all_features(df)\n",
    "categorical_f = ['sku', 'pack', 'brand'] + categorical_f\n",
    "\n",
    "df = df.sort_values('Date')\n",
    "\n",
    "#   --------------- Model -----------------\n",
    "\n",
    "drop_cols = ['scope', 'Date', 'real_target', 'pack', 'size (GM)', 'cluster','target'\n",
    "#              'year','week_of_the_year','brand','month'\n",
    "            ]\n",
    "categorical_f = [x for x in categorical_f if x not in drop_cols]\n",
    "\n",
    "CLUSTER = [1,2]      # Set CLUSTER = None if you want NOT to consider any cluster\n",
    "NAME = 'lgb_no_cluster_1'\n",
    "\n",
    "model = LightGBM()\n",
    "model_gen = Generator(df, model,\n",
    "                        categorical_features=categorical_f,\n",
    "                        drop_columns=drop_cols,\n",
    "                        isScope=useScope,\n",
    "                        sample_weights_type=weights_type,\n",
    "                        evaluation=isEvaluation,\n",
    "                        useTest=useTest,\n",
    "                        cluster=None,\n",
    "                        name=NAME)\n",
    "\n",
    "prediction = model_gen.run_generator(save)\n",
    "\n",
    "model_gen.compute_MAPE()"
   ]
  },
  {
   "cell_type": "markdown",
   "metadata": {},
   "source": [
    "## Random Forest using Cluster"
   ]
  },
  {
   "cell_type": "code",
   "execution_count": 35,
   "metadata": {},
   "outputs": [
    {
     "name": "stdout",
     "output_type": "stream",
     "text": [
      "546: 12.396124809630955\n",
      "1027: 9.998826774070785\n",
      "1058: 18.426877910754413\n",
      "549: 13.916113203239611\n",
      "1065: 10.105162217180249\n",
      "554: 10.567223776359501\n",
      "1035: 9.787019769002086\n",
      "686: 8.903778841911691\n",
      "144: 17.311844641019373\n",
      "688: 13.782050826629009\n",
      "1206: 8.273538953340582\n",
      "1051: 7.156280437650903\n"
     ]
    }
   ],
   "source": [
    "from utils import dfs_gen\n",
    "from sklearn.ensemble import RandomForestRegressor\n",
    "tot_mape=0\n",
    "date = [] \n",
    "sku = []\n",
    "pred = []\n",
    "\n",
    "for s in set(test.sku):\n",
    "    current_sku = s\n",
    "    clu1=(cluster[cluster.Sku==s].Label).values\n",
    "    clu=cluster[cluster.Label==clu1[0]].Sku\n",
    "    tr=pd.DataFrame()\n",
    "    for i in clu:\n",
    "        tr=tr.append(df[df.sku==i])\n",
    "    df_sku=tr\n",
    "    #print(len(df_sku[(df_sku.Date >= '2019-06-29')&(df_sku.sku==s)]['real_target']))\n",
    "    #print(s,df_sku))\n",
    "          \n",
    "    #df_sku = df[df.sku == current_sku]\n",
    "    test_dates = df_sku[df_sku.Date >= '2019-06-29']\n",
    "    test_dates = test_dates.drop_duplicates('Date').Date\n",
    "    generator = dfs_gen(df_sku, test_dates)\n",
    "    lr = []\n",
    "    for df_train, df_test in generator:\n",
    "        #print(df_train,df_test)\n",
    "        \n",
    "        X = df_train.drop(drop_cols, axis=1).fillna(0)\n",
    "        y = df_train.real_target.dropna()\n",
    "        reg = RandomForestRegressor(100).fit(X, y)\n",
    "        date.append(list(df_test.Date)[0])\n",
    "        sku.append(s)\n",
    "        #train_pred.append(float(reg.predict(df_train.drop(drop_cols, axis=1).fillna(0))[0]))\n",
    "        pred.append(float(reg.predict(df_test[df_test.sku==s].drop(drop_cols, axis=1).fillna(0))[0]))\n",
    "        lr.append(reg.predict(df_test[df_test.sku==s].drop(drop_cols, axis=1).fillna(0))[0])\n",
    "    tmp_mape = MAPE(df_sku[(df_sku.Date >= '2019-06-29')&(df_sku.sku==s)]['real_target'].dropna(), lr[:24])\n",
    "    tot_mape+=tmp_mape\n",
    "    print(f\"{s}: {tmp_mape}\")"
   ]
  },
  {
   "cell_type": "code",
   "execution_count": null,
   "metadata": {},
   "outputs": [],
   "source": [
    "preds_lr.to_csv('pred_RF_Clu.csv')"
   ]
  },
  {
   "cell_type": "code",
   "execution_count": 36,
   "metadata": {},
   "outputs": [
    {
     "data": {
      "text/html": [
       "<div>\n",
       "<style scoped>\n",
       "    .dataframe tbody tr th:only-of-type {\n",
       "        vertical-align: middle;\n",
       "    }\n",
       "\n",
       "    .dataframe tbody tr th {\n",
       "        vertical-align: top;\n",
       "    }\n",
       "\n",
       "    .dataframe thead th {\n",
       "        text-align: right;\n",
       "    }\n",
       "</style>\n",
       "<table border=\"1\" class=\"dataframe\">\n",
       "  <thead>\n",
       "    <tr style=\"text-align: right;\">\n",
       "      <th></th>\n",
       "      <th>Date</th>\n",
       "      <th>sku</th>\n",
       "      <th>pred_RF</th>\n",
       "    </tr>\n",
       "  </thead>\n",
       "  <tbody>\n",
       "    <tr>\n",
       "      <th>0</th>\n",
       "      <td>2019-06-29</td>\n",
       "      <td>546</td>\n",
       "      <td>68209.31</td>\n",
       "    </tr>\n",
       "    <tr>\n",
       "      <th>1</th>\n",
       "      <td>2019-07-06</td>\n",
       "      <td>546</td>\n",
       "      <td>62340.07</td>\n",
       "    </tr>\n",
       "    <tr>\n",
       "      <th>2</th>\n",
       "      <td>2019-07-13</td>\n",
       "      <td>546</td>\n",
       "      <td>78680.03</td>\n",
       "    </tr>\n",
       "    <tr>\n",
       "      <th>3</th>\n",
       "      <td>2019-07-20</td>\n",
       "      <td>546</td>\n",
       "      <td>153738.17</td>\n",
       "    </tr>\n",
       "    <tr>\n",
       "      <th>4</th>\n",
       "      <td>2019-07-27</td>\n",
       "      <td>546</td>\n",
       "      <td>128083.50</td>\n",
       "    </tr>\n",
       "    <tr>\n",
       "      <th>...</th>\n",
       "      <td>...</td>\n",
       "      <td>...</td>\n",
       "      <td>...</td>\n",
       "    </tr>\n",
       "    <tr>\n",
       "      <th>295</th>\n",
       "      <td>2019-11-16</td>\n",
       "      <td>1051</td>\n",
       "      <td>30997.54</td>\n",
       "    </tr>\n",
       "    <tr>\n",
       "      <th>296</th>\n",
       "      <td>2019-11-23</td>\n",
       "      <td>1051</td>\n",
       "      <td>42915.39</td>\n",
       "    </tr>\n",
       "    <tr>\n",
       "      <th>297</th>\n",
       "      <td>2019-11-30</td>\n",
       "      <td>1051</td>\n",
       "      <td>43154.57</td>\n",
       "    </tr>\n",
       "    <tr>\n",
       "      <th>298</th>\n",
       "      <td>2019-12-07</td>\n",
       "      <td>1051</td>\n",
       "      <td>24946.34</td>\n",
       "    </tr>\n",
       "    <tr>\n",
       "      <th>299</th>\n",
       "      <td>2019-12-14</td>\n",
       "      <td>1051</td>\n",
       "      <td>14884.15</td>\n",
       "    </tr>\n",
       "  </tbody>\n",
       "</table>\n",
       "<p>300 rows × 3 columns</p>\n",
       "</div>"
      ],
      "text/plain": [
       "          Date   sku    pred_RF\n",
       "0   2019-06-29   546   68209.31\n",
       "1   2019-07-06   546   62340.07\n",
       "2   2019-07-13   546   78680.03\n",
       "3   2019-07-20   546  153738.17\n",
       "4   2019-07-27   546  128083.50\n",
       "..         ...   ...        ...\n",
       "295 2019-11-16  1051   30997.54\n",
       "296 2019-11-23  1051   42915.39\n",
       "297 2019-11-30  1051   43154.57\n",
       "298 2019-12-07  1051   24946.34\n",
       "299 2019-12-14  1051   14884.15\n",
       "\n",
       "[300 rows x 3 columns]"
      ]
     },
     "execution_count": 36,
     "metadata": {},
     "output_type": "execute_result"
    }
   ],
   "source": [
    "preds_rf_clu = pd.DataFrame()\n",
    "preds_rf_clu['Date'] = date\n",
    "preds_rf_clu['sku'] = sku\n",
    "preds_rf_clu['pred_RF'] = pred\n",
    "#preds_lr[preds_lr.sku==144]\n",
    "#preds_lr['target']=test['sales w-1']\n",
    "preds_rf_clu"
   ]
  },
  {
   "cell_type": "code",
   "execution_count": 37,
   "metadata": {},
   "outputs": [],
   "source": [
    "\n",
    "y_t=test[test.sku==546]['sales w-1']\n"
   ]
  },
  {
   "cell_type": "code",
   "execution_count": 39,
   "metadata": {},
   "outputs": [
    {
     "data": {
      "image/png": "[encoded data removed]",
      "text/plain": [
       "<Figure size 432x288 with 1 Axes>"
      ]
     },
     "metadata": {
      "needs_background": "light"
     },
     "output_type": "display_data"
    }
   ],
   "source": [
    "import matplotlib as mpl\n",
    "import matplotlib.pyplot as plt\n",
    "import seaborn as sns \n",
    "\n",
    "dictio={'target':np.asarray(y_t),'predicted':np.asarray(preds_rf_clu[preds_rf_clu.sku==546]['pred_RF'])}\n",
    "df_result_forest_test = pd.DataFrame(dictio)\n",
    "\n",
    "#df_result_forest_test\n",
    "\n",
    "\n",
    "plt.plot(preds_lr[preds_rf_clu.sku==546].Date,df_result_forest_test.target,label='data')\n",
    "plt.plot(preds_lr[preds_rf_clu.sku==546].Date,df_result_forest_test['predicted'],label='predicted')\n",
    "\n",
    "plt.title(\"Forecasting on Test Set\")\n",
    "plt.legend();\n"
   ]
  },
  {
   "cell_type": "markdown",
   "metadata": {},
   "source": [
    "MAPE sul test"
   ]
  },
  {
   "cell_type": "code",
   "execution_count": 43,
   "metadata": {},
   "outputs": [
    {
     "name": "stdout",
     "output_type": "stream",
     "text": [
      "546: 20.957061416895144\n",
      "1027: 17.98976532507385\n",
      "1058: 14.567309480693705\n",
      "549: 20.502972949115605\n",
      "1065: 15.572470271457437\n",
      "554: 14.2677861451864\n",
      "1035: 13.60309071559413\n",
      "686: 10.240863960206315\n",
      "144: 16.61170853315287\n",
      "688: 14.459060894033001\n",
      "1206: 10.39775040556468\n",
      "1051: 7.9104642210013285\n"
     ]
    }
   ],
   "source": [
    "from utils import dfs_gen\n",
    "from sklearn.ensemble import RandomForestRegressor\n",
    "tot_mape=0\n",
    "date = [] \n",
    "sku = []\n",
    "pred1 = []\n",
    "\n",
    "for s in list(set(prediction.sku)):\n",
    "    current_sku = s\n",
    "    df_sku = df[df.sku == current_sku]\n",
    "    test_dates = df_sku[df_sku.Date >= '2019-06-29']\n",
    "    test_dates = test_dates.drop_duplicates('Date').Date\n",
    "    generator = dfs_gen(df_sku, test_dates)\n",
    "    lr1 = []\n",
    "    for df_train, df_test in generator:\n",
    "        X = df_train.drop(drop_cols, axis=1).fillna(0)\n",
    "        y = df_train.real_target.dropna()\n",
    "        reg = RandomForestRegressor(100).fit(X, y)\n",
    "        date.append(list(df_test.Date)[0])\n",
    "        sku.append(s)\n",
    "        #train_pred.append(float(reg.predict(df_train.drop(drop_cols, axis=1).fillna(0))[0]))\n",
    "        pred1.append(float(reg.predict(df_test[df_test.sku==s].drop(drop_cols, axis=1).fillna(0))[0]))\n",
    "        lr1.append(reg.predict(df_test[df_test.sku==s].drop(drop_cols, axis=1).fillna(0))[0])\n",
    "    tmp_mape = MAPE(df_sku[(df_sku.Date >= '2019-06-29')&(df_sku.sku==s)]['real_target'].dropna(), lr1[:24])\n",
    "    tot_mape+=tmp_mape\n",
    "    print(f\"{s}: {tmp_mape}\")"
   ]
  },
  {
   "cell_type": "code",
   "execution_count": 46,
   "metadata": {},
   "outputs": [
    {
     "data": {
      "text/html": [
       "<div>\n",
       "<style scoped>\n",
       "    .dataframe tbody tr th:only-of-type {\n",
       "        vertical-align: middle;\n",
       "    }\n",
       "\n",
       "    .dataframe tbody tr th {\n",
       "        vertical-align: top;\n",
       "    }\n",
       "\n",
       "    .dataframe thead th {\n",
       "        text-align: right;\n",
       "    }\n",
       "</style>\n",
       "<table border=\"1\" class=\"dataframe\">\n",
       "  <thead>\n",
       "    <tr style=\"text-align: right;\">\n",
       "      <th></th>\n",
       "      <th>Date</th>\n",
       "      <th>sku</th>\n",
       "      <th>pred_RF</th>\n",
       "    </tr>\n",
       "  </thead>\n",
       "  <tbody>\n",
       "    <tr>\n",
       "      <th>0</th>\n",
       "      <td>2019-06-29</td>\n",
       "      <td>546</td>\n",
       "      <td>69374.43</td>\n",
       "    </tr>\n",
       "    <tr>\n",
       "      <th>1</th>\n",
       "      <td>2019-07-06</td>\n",
       "      <td>546</td>\n",
       "      <td>67701.40</td>\n",
       "    </tr>\n",
       "    <tr>\n",
       "      <th>2</th>\n",
       "      <td>2019-07-13</td>\n",
       "      <td>546</td>\n",
       "      <td>81976.38</td>\n",
       "    </tr>\n",
       "    <tr>\n",
       "      <th>3</th>\n",
       "      <td>2019-07-20</td>\n",
       "      <td>546</td>\n",
       "      <td>106013.83</td>\n",
       "    </tr>\n",
       "    <tr>\n",
       "      <th>4</th>\n",
       "      <td>2019-07-27</td>\n",
       "      <td>546</td>\n",
       "      <td>107143.61</td>\n",
       "    </tr>\n",
       "    <tr>\n",
       "      <th>...</th>\n",
       "      <td>...</td>\n",
       "      <td>...</td>\n",
       "      <td>...</td>\n",
       "    </tr>\n",
       "    <tr>\n",
       "      <th>295</th>\n",
       "      <td>2019-11-16</td>\n",
       "      <td>1051</td>\n",
       "      <td>30940.53</td>\n",
       "    </tr>\n",
       "    <tr>\n",
       "      <th>296</th>\n",
       "      <td>2019-11-23</td>\n",
       "      <td>1051</td>\n",
       "      <td>43366.69</td>\n",
       "    </tr>\n",
       "    <tr>\n",
       "      <th>297</th>\n",
       "      <td>2019-11-30</td>\n",
       "      <td>1051</td>\n",
       "      <td>43474.79</td>\n",
       "    </tr>\n",
       "    <tr>\n",
       "      <th>298</th>\n",
       "      <td>2019-12-07</td>\n",
       "      <td>1051</td>\n",
       "      <td>24923.38</td>\n",
       "    </tr>\n",
       "    <tr>\n",
       "      <th>299</th>\n",
       "      <td>2019-12-14</td>\n",
       "      <td>1051</td>\n",
       "      <td>13584.63</td>\n",
       "    </tr>\n",
       "  </tbody>\n",
       "</table>\n",
       "<p>300 rows × 3 columns</p>\n",
       "</div>"
      ],
      "text/plain": [
       "          Date   sku    pred_RF\n",
       "0   2019-06-29   546   69374.43\n",
       "1   2019-07-06   546   67701.40\n",
       "2   2019-07-13   546   81976.38\n",
       "3   2019-07-20   546  106013.83\n",
       "4   2019-07-27   546  107143.61\n",
       "..         ...   ...        ...\n",
       "295 2019-11-16  1051   30940.53\n",
       "296 2019-11-23  1051   43366.69\n",
       "297 2019-11-30  1051   43474.79\n",
       "298 2019-12-07  1051   24923.38\n",
       "299 2019-12-14  1051   13584.63\n",
       "\n",
       "[300 rows x 3 columns]"
      ]
     },
     "execution_count": 46,
     "metadata": {},
     "output_type": "execute_result"
    }
   ],
   "source": [
    "preds_rf = pd.DataFrame()\n",
    "preds_rf['Date'] = date\n",
    "preds_rf['sku'] = sku\n",
    "preds_rf['pred_RF'] = pred1\n",
    "#preds_lr[preds_lr.sku==144]\n",
    "#preds_lr['target']=test['sales w-1']\n",
    "preds_rf"
   ]
  },
  {
   "cell_type": "code",
   "execution_count": 16,
   "metadata": {},
   "outputs": [],
   "source": [
    "\n",
    "preds_lr.to_csv('pred_RF_noClu.csv')"
   ]
  },
  {
   "cell_type": "code",
   "execution_count": 47,
   "metadata": {},
   "outputs": [],
   "source": [
    "y_t=test[test.sku==546]['sales w-1']\n"
   ]
  },
  {
   "cell_type": "code",
   "execution_count": 48,
   "metadata": {},
   "outputs": [],
   "source": [
    "import matplotlib as mpl\n",
    "import matplotlib.pyplot as plt\n",
    "import seaborn as sns \n",
    "\n",
    "dictio={'target':np.asarray(y_t),'predicted':np.asarray(preds_rf[preds_rf.sku==546]['pred_RF'])}\n",
    "df_result_forest_test = pd.DataFrame(dictio)\n",
    "\n",
    "#df_result_forest_test"
   ]
  },
  {
   "cell_type": "code",
   "execution_count": 49,
   "metadata": {},
   "outputs": [
    {
     "data": {
      "image/png": "[encoded data removed]",
      "text/plain": [
       "<Figure size 432x288 with 1 Axes>"
      ]
     },
     "metadata": {
      "needs_background": "light"
     },
     "output_type": "display_data"
    }
   ],
   "source": [
    "\n",
    "plt.plot(preds_rf[preds_rf.sku==546].Date,df_result_forest_test.target,label='data')\n",
    "plt.plot(preds_rf[preds_rf.sku==546].Date,df_result_forest_test['predicted'],label='predicted')\n",
    "\n",
    "plt.title(\"Forecasting on Test Set\")\n",
    "plt.legend();\n"
   ]
  },
  {
   "cell_type": "markdown",
   "metadata": {},
   "source": [
    "## With cluster"
   ]
  },
  {
   "cell_type": "code",
   "execution_count": 53,
   "metadata": {},
   "outputs": [
    {
     "data": {
      "text/html": [
       "<div>\n",
       "<style scoped>\n",
       "    .dataframe tbody tr th:only-of-type {\n",
       "        vertical-align: middle;\n",
       "    }\n",
       "\n",
       "    .dataframe tbody tr th {\n",
       "        vertical-align: top;\n",
       "    }\n",
       "\n",
       "    .dataframe thead th {\n",
       "        text-align: right;\n",
       "    }\n",
       "</style>\n",
       "<table border=\"1\" class=\"dataframe\">\n",
       "  <thead>\n",
       "    <tr style=\"text-align: right;\">\n",
       "      <th></th>\n",
       "      <th>Date</th>\n",
       "      <th>sku</th>\n",
       "      <th>target</th>\n",
       "      <th>real_target</th>\n",
       "      <th>log_prediction_lgb_no_cluster_1</th>\n",
       "      <th>prediction_lgb_no_cluster_1</th>\n",
       "      <th>pred_RF</th>\n",
       "    </tr>\n",
       "  </thead>\n",
       "  <tbody>\n",
       "    <tr>\n",
       "      <th>0</th>\n",
       "      <td>2019-06-29</td>\n",
       "      <td>144</td>\n",
       "      <td>9.694555</td>\n",
       "      <td>16228.0</td>\n",
       "      <td>9.616715</td>\n",
       "      <td>15012.651166</td>\n",
       "      <td>17137.73</td>\n",
       "    </tr>\n",
       "    <tr>\n",
       "      <th>1</th>\n",
       "      <td>2019-06-29</td>\n",
       "      <td>546</td>\n",
       "      <td>11.025295</td>\n",
       "      <td>61407.0</td>\n",
       "      <td>11.138380</td>\n",
       "      <td>68759.161165</td>\n",
       "      <td>68209.31</td>\n",
       "    </tr>\n",
       "    <tr>\n",
       "      <th>2</th>\n",
       "      <td>2019-06-29</td>\n",
       "      <td>549</td>\n",
       "      <td>10.427565</td>\n",
       "      <td>33777.0</td>\n",
       "      <td>10.570172</td>\n",
       "      <td>38954.388658</td>\n",
       "      <td>43560.91</td>\n",
       "    </tr>\n",
       "    <tr>\n",
       "      <th>3</th>\n",
       "      <td>2019-06-29</td>\n",
       "      <td>554</td>\n",
       "      <td>11.717286</td>\n",
       "      <td>122673.0</td>\n",
       "      <td>11.809471</td>\n",
       "      <td>134519.367335</td>\n",
       "      <td>136185.70</td>\n",
       "    </tr>\n",
       "    <tr>\n",
       "      <th>4</th>\n",
       "      <td>2019-06-29</td>\n",
       "      <td>686</td>\n",
       "      <td>9.960718</td>\n",
       "      <td>21177.0</td>\n",
       "      <td>9.834768</td>\n",
       "      <td>18670.775315</td>\n",
       "      <td>19109.58</td>\n",
       "    </tr>\n",
       "  </tbody>\n",
       "</table>\n",
       "</div>"
      ],
      "text/plain": [
       "        Date  sku     target  real_target  log_prediction_lgb_no_cluster_1  \\\n",
       "0 2019-06-29  144   9.694555      16228.0                         9.616715   \n",
       "1 2019-06-29  546  11.025295      61407.0                        11.138380   \n",
       "2 2019-06-29  549  10.427565      33777.0                        10.570172   \n",
       "3 2019-06-29  554  11.717286     122673.0                        11.809471   \n",
       "4 2019-06-29  686   9.960718      21177.0                         9.834768   \n",
       "\n",
       "   prediction_lgb_no_cluster_1    pred_RF  \n",
       "0                 15012.651166   17137.73  \n",
       "1                 68759.161165   68209.31  \n",
       "2                 38954.388658   43560.91  \n",
       "3                134519.367335  136185.70  \n",
       "4                 18670.775315   19109.58  "
      ]
     },
     "execution_count": 53,
     "metadata": {},
     "output_type": "execute_result"
    }
   ],
   "source": [
    "df_ens_clu = pd.merge(prediction, preds_rf_clu, how='left')\n",
    "df_ens_clu['pred_RF'] = df_ens_clu['pred_RF'].astype(float) \n",
    "df_ens_clu.head()"
   ]
  },
  {
   "cell_type": "code",
   "execution_count": 55,
   "metadata": {},
   "outputs": [
    {
     "name": "stdout",
     "output_type": "stream",
     "text": [
      "\u001b[1mRandom Forest MAPE:\u001b[0m11.71873684673243\n"
     ]
    }
   ],
   "source": [
    "print('\\033[1m'+ \"Random Forest MAPE:\" +'\\033[0m' \\\n",
    "      + f\"{MAPE(df_ens_clu.dropna().real_target, df_ens_clu.dropna().pred_RF)}\")"
   ]
  },
  {
   "cell_type": "markdown",
   "metadata": {},
   "source": [
    "## Without Cluster"
   ]
  },
  {
   "cell_type": "code",
   "execution_count": 56,
   "metadata": {},
   "outputs": [
    {
     "data": {
      "text/html": [
       "<div>\n",
       "<style scoped>\n",
       "    .dataframe tbody tr th:only-of-type {\n",
       "        vertical-align: middle;\n",
       "    }\n",
       "\n",
       "    .dataframe tbody tr th {\n",
       "        vertical-align: top;\n",
       "    }\n",
       "\n",
       "    .dataframe thead th {\n",
       "        text-align: right;\n",
       "    }\n",
       "</style>\n",
       "<table border=\"1\" class=\"dataframe\">\n",
       "  <thead>\n",
       "    <tr style=\"text-align: right;\">\n",
       "      <th></th>\n",
       "      <th>Date</th>\n",
       "      <th>sku</th>\n",
       "      <th>target</th>\n",
       "      <th>real_target</th>\n",
       "      <th>log_prediction_lgb_no_cluster_1</th>\n",
       "      <th>prediction_lgb_no_cluster_1</th>\n",
       "      <th>pred_RF</th>\n",
       "    </tr>\n",
       "  </thead>\n",
       "  <tbody>\n",
       "    <tr>\n",
       "      <th>0</th>\n",
       "      <td>2019-06-29</td>\n",
       "      <td>144</td>\n",
       "      <td>9.694555</td>\n",
       "      <td>16228.0</td>\n",
       "      <td>9.616715</td>\n",
       "      <td>15012.651166</td>\n",
       "      <td>18999.40</td>\n",
       "    </tr>\n",
       "    <tr>\n",
       "      <th>1</th>\n",
       "      <td>2019-06-29</td>\n",
       "      <td>546</td>\n",
       "      <td>11.025295</td>\n",
       "      <td>61407.0</td>\n",
       "      <td>11.138380</td>\n",
       "      <td>68759.161165</td>\n",
       "      <td>69374.43</td>\n",
       "    </tr>\n",
       "    <tr>\n",
       "      <th>2</th>\n",
       "      <td>2019-06-29</td>\n",
       "      <td>549</td>\n",
       "      <td>10.427565</td>\n",
       "      <td>33777.0</td>\n",
       "      <td>10.570172</td>\n",
       "      <td>38954.388658</td>\n",
       "      <td>37048.83</td>\n",
       "    </tr>\n",
       "    <tr>\n",
       "      <th>3</th>\n",
       "      <td>2019-06-29</td>\n",
       "      <td>554</td>\n",
       "      <td>11.717286</td>\n",
       "      <td>122673.0</td>\n",
       "      <td>11.809471</td>\n",
       "      <td>134519.367335</td>\n",
       "      <td>136978.78</td>\n",
       "    </tr>\n",
       "    <tr>\n",
       "      <th>4</th>\n",
       "      <td>2019-06-29</td>\n",
       "      <td>686</td>\n",
       "      <td>9.960718</td>\n",
       "      <td>21177.0</td>\n",
       "      <td>9.834768</td>\n",
       "      <td>18670.775315</td>\n",
       "      <td>19284.47</td>\n",
       "    </tr>\n",
       "  </tbody>\n",
       "</table>\n",
       "</div>"
      ],
      "text/plain": [
       "        Date  sku     target  real_target  log_prediction_lgb_no_cluster_1  \\\n",
       "0 2019-06-29  144   9.694555      16228.0                         9.616715   \n",
       "1 2019-06-29  546  11.025295      61407.0                        11.138380   \n",
       "2 2019-06-29  549  10.427565      33777.0                        10.570172   \n",
       "3 2019-06-29  554  11.717286     122673.0                        11.809471   \n",
       "4 2019-06-29  686   9.960718      21177.0                         9.834768   \n",
       "\n",
       "   prediction_lgb_no_cluster_1    pred_RF  \n",
       "0                 15012.651166   18999.40  \n",
       "1                 68759.161165   69374.43  \n",
       "2                 38954.388658   37048.83  \n",
       "3                134519.367335  136978.78  \n",
       "4                 18670.775315   19284.47  "
      ]
     },
     "execution_count": 56,
     "metadata": {},
     "output_type": "execute_result"
    }
   ],
   "source": [
    "df_ens = pd.merge(prediction, preds_rf, how='left')\n",
    "df_ens['pred_RF'] = df_ens['pred_RF'].astype(float) \n",
    "df_ens.head()"
   ]
  },
  {
   "cell_type": "code",
   "execution_count": 57,
   "metadata": {},
   "outputs": [
    {
     "name": "stdout",
     "output_type": "stream",
     "text": [
      "\u001b[1mRandom Forest MAPE:\u001b[0m14.75669202649787\n"
     ]
    }
   ],
   "source": [
    "print('\\033[1m'+ \"Random Forest MAPE:\" +'\\033[0m' \\\n",
    "      + f\"{MAPE(df_ens.dropna().real_target, df_ens.dropna().pred_RF)}\")"
   ]
  }
 ],
 "metadata": {
  "kernelspec": {
   "display_name": "Python 3",
   "language": "python",
   "name": "python3"
  },
  "language_info": {
   "codemirror_mode": {
    "name": "ipython",
    "version": 3
   },
   "file_extension": ".py",
   "mimetype": "text/x-python",
   "name": "python",
   "nbconvert_exporter": "python",
   "pygments_lexer": "ipython3",
   "version": "3.7.6"
  }
 },
 "nbformat": 4,
 "nbformat_minor": 4
}
