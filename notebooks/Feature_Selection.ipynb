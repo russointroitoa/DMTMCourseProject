{
 "cells": [
  {
   "cell_type": "markdown",
   "metadata": {},
   "source": [
    "# <b>Feature Selection</b>"
   ]
  },
  {
   "cell_type": "markdown",
   "metadata": {},
   "source": [
    "In this notebook we use several methods to perform feature selection. In particular:"
   ]
  },
  {
   "cell_type": "markdown",
   "metadata": {},
   "source": [
    "\n",
    "- Variance Threshold\n",
    "- PCA\n",
    "- Random Forest "
   ]
  },
  {
   "cell_type": "markdown",
   "metadata": {},
   "source": [
    "As usual we do some preprocessing on the training set adding all the features."
   ]
  },
  {
   "cell_type": "code",
   "execution_count": 1,
   "metadata": {},
   "outputs": [],
   "source": [
    "import sys\n",
    "sys.path.append(\"../\")\n",
    "from preprocessing.preprocessing import preprocessing\n",
    "from warnings import filterwarnings\n",
    "filterwarnings(\"ignore\")\n",
    "from sklearn.feature_selection import VarianceThreshold\n",
    "import pandas as pd\n",
    "\n",
    "from sklearn.ensemble import ExtraTreesRegressor\n",
    "from sklearn.feature_selection import SelectFromModel\n",
    "\n",
    "import numpy as np\n",
    "import matplotlib.pyplot as plt\n",
    "\n",
    "from sklearn.decomposition import PCA\n",
    "from sklearn.preprocessing import StandardScaler\n",
    "\n",
    "from utils import add_all_features"
   ]
  },
  {
   "cell_type": "code",
   "execution_count": 2,
   "metadata": {},
   "outputs": [
    {
     "name": "stderr",
     "output_type": "stream",
     "text": [
      "6019it [00:00, 7578.28it/s]\n",
      "6019it [00:00, 34375.37it/s]\n",
      "100%|██████████| 43/43 [00:00<00:00, 544.20it/s]\n"
     ]
    }
   ],
   "source": [
    "import os\n",
    "os.chdir('..')\n",
    "train = pd.read_csv(\"dataset/original/train.csv\")\n",
    "test = pd.read_csv(\"dataset/original/x_test.csv\")\n",
    "\n",
    "useTest = True\n",
    "\n",
    "df = preprocessing(train, test, useTest=useTest)\n",
    "\n",
    "df, categorical_f = add_all_features(df)\n",
    "\n",
    "drop_cols1=['target','real_target','sku','Date']\n",
    "drop_cols_pca = ['sku','size (GM)','scope', 'Date', 'real_target', 'pack', 'brand', 'cluster','target','month','day','year'\n",
    "            ]\n",
    "df = df.sort_values('Date')\n",
    "\n",
    "df_train=df[df.Date < '2019-06-29']\n",
    "df_train=df_train.fillna(0)\n",
    "\n"
   ]
  },
  {
   "cell_type": "markdown",
   "metadata": {},
   "source": [
    "# Variance Threshold"
   ]
  },
  {
   "cell_type": "markdown",
   "metadata": {},
   "source": [
    "This method removes features with variation below a certain cutoff. The idea is when a feature doesn't vary much within itself, it generally has very little predictive power. "
   ]
  },
  {
   "cell_type": "markdown",
   "metadata": {},
   "source": [
    "We use the variance threshold to print out the less informative features."
   ]
  },
  {
   "cell_type": "code",
   "execution_count": 3,
   "metadata": {},
   "outputs": [
    {
     "name": "stdout",
     "output_type": "stream",
     "text": [
      "Reduced data set shape =  (5719, 24)\n",
      "     Selected features =  Index(['pack', 'size (GM)', 'brand', 'price', 'POS_exposed w-1',\n",
      "       'volume_on_promo w-1', 'sales w-1', 'scope', 'moving_average_20',\n",
      "       'exp_ma', 'lag_target_25', 'lag_target_50', 'month', 'day', 'year',\n",
      "       'days_to_christmas', 'heavy_light', 'partial_sales', 'pos_lagged_2',\n",
      "       'cluster', 'week_of_the_year', 'seasons', 'tot_cost', 'Corr'],\n",
      "      dtype='object')\n",
      "      Deleted Features =  Index(['increment'], dtype='object')\n"
     ]
    }
   ],
   "source": [
    "df_train1=df_train.drop(drop_cols1,axis=1)\n",
    "feature_selection_variance_model = VarianceThreshold(threshold=.8*(1-.8))\n",
    "X_selected_features_variance = feature_selection_variance_model.fit_transform(df_train1)\n",
    "\n",
    "mask = feature_selection_variance_model.get_support() \n",
    "\n",
    "print(\"Reduced data set shape = \", X_selected_features_variance.shape)\n",
    "print(\"     Selected features = \", df_train1.columns[mask])\n",
    "print(\"      Deleted Features = \", df_train1.columns[~mask])"
   ]
  },
  {
   "cell_type": "markdown",
   "metadata": {},
   "source": [
    "# Random Forest for Feature Selection"
   ]
  },
  {
   "cell_type": "code",
   "execution_count": 4,
   "metadata": {},
   "outputs": [
    {
     "data": {
      "text/plain": [
       "ExtraTreesRegressor(bootstrap=False, ccp_alpha=0.0, criterion='mse',\n",
       "                    max_depth=None, max_features='auto', max_leaf_nodes=None,\n",
       "                    max_samples=None, min_impurity_decrease=0.0,\n",
       "                    min_impurity_split=None, min_samples_leaf=1,\n",
       "                    min_samples_split=2, min_weight_fraction_leaf=0.0,\n",
       "                    n_estimators=250, n_jobs=None, oob_score=False,\n",
       "                    random_state=0, verbose=0, warm_start=False)"
      ]
     },
     "execution_count": 4,
     "metadata": {},
     "output_type": "execute_result"
    }
   ],
   "source": [
    "y=df_train.real_target\n",
    "df_train2=df_train.drop(drop_cols1,axis=1)\n",
    "forest = ExtraTreesRegressor(n_estimators=250, random_state=0)\n",
    "forest.fit(df_train2,y)"
   ]
  },
  {
   "cell_type": "code",
   "execution_count": 5,
   "metadata": {},
   "outputs": [
    {
     "name": "stdout",
     "output_type": "stream",
     "text": [
      "Feature ranking:\n",
      "1. feature 10 exp_ma (0.246881)\n",
      "2. feature 8 moving_average_20 (0.239596)\n",
      "3. feature 6 sales w-1 (0.231265)\n",
      "4. feature 17 heavy_light (0.061149)\n",
      "5. feature 11 lag_target_25 (0.054632)\n",
      "6. feature 1 size (GM) (0.040444)\n",
      "7. feature 3 price (0.026506)\n",
      "8. feature 12 lag_target_50 (0.025391)\n",
      "9. feature 23 tot_cost (0.017235)\n",
      "10. feature 7 scope (0.016719)\n",
      "11. feature 20 cluster (0.014687)\n",
      "12. feature 9 increment (0.005155)\n",
      "13. feature 2 brand (0.003537)\n",
      "14. feature 16 days_to_christmas (0.002362)\n",
      "15. feature 21 week_of_the_year (0.002175)\n",
      "16. feature 13 month (0.002125)\n",
      "17. feature 4 POS_exposed w-1 (0.001973)\n",
      "18. feature 5 volume_on_promo w-1 (0.001931)\n",
      "19. feature 24 Corr (0.001532)\n",
      "20. feature 19 pos_lagged_2 (0.001498)\n",
      "21. feature 18 partial_sales (0.001023)\n",
      "22. feature 22 seasons (0.000646)\n",
      "23. feature 14 day (0.000596)\n",
      "24. feature 15 year (0.000484)\n",
      "25. feature 0 pack (0.000456)\n"
     ]
    },
    {
     "data": {
      "image/png": "[encoded data removed]",
      "text/plain": [
       "<Figure size 864x864 with 1 Axes>"
      ]
     },
     "metadata": {
      "needs_background": "light"
     },
     "output_type": "display_data"
    }
   ],
   "source": [
    "importances = forest.feature_importances_\n",
    "std = np.std([tree.feature_importances_ for tree in forest.estimators_],\n",
    "             axis=0)\n",
    "indices = np.argsort(importances)[::-1]\n",
    "\n",
    "# Print the feature ranking\n",
    "print(\"Feature ranking:\")\n",
    "for f in range(df_train2.shape[1]):\n",
    "    print(\"%d. feature %d %s (%f)\" % (f + 1, indices[f], df_train2.columns[indices[f]], importances[indices[f]]))\n",
    "\n",
    "# Plot the feature importances of the forest\n",
    "plt.figure(figsize=(12,12))\n",
    "plt.title(\"Feature importances\")\n",
    "plt.bar(range(df_train2.shape[1]), importances[indices],\n",
    "       color=\"r\", yerr=std[indices], align=\"center\")\n",
    "plt.xticks(range(df_train.shape[1]), df_train.columns[indices],rotation=90)\n",
    "plt.xlim([-1, df_train.shape[1]])\n",
    "plt.show()"
   ]
  },
  {
   "cell_type": "markdown",
   "metadata": {},
   "source": [
    "# PCA"
   ]
  },
  {
   "cell_type": "code",
   "execution_count": 6,
   "metadata": {},
   "outputs": [],
   "source": [
    "df_train_pca=df_train.drop(drop_cols_pca,axis=1)\n",
    "X_std = StandardScaler().fit_transform(df_train_pca)\n",
    "feature_selection_pca_model = PCA()\n",
    "fitted_model = feature_selection_pca_model.fit(X_std)\n",
    "f_m=fitted_model.transform(X_std)"
   ]
  },
  {
   "cell_type": "code",
   "execution_count": 7,
   "metadata": {},
   "outputs": [
    {
     "data": {
      "image/png": "[encoded data removed]",
      "text/plain": [
       "<Figure size 432x288 with 1 Axes>"
      ]
     },
     "metadata": {
      "needs_background": "light"
     },
     "output_type": "display_data"
    }
   ],
   "source": [
    "plt.semilogy(fitted_model.explained_variance_ratio_.cumsum(), '--o');\n",
    "plt.xticks(np.arange(0, 18, 1));\n",
    "plt.plot([0, 17], [.9, .9], ':')\n",
    "plt.plot([0, 17], [.8, .8], ':')\n",
    "plt.xlabel(\"Features\")\n",
    "plt.ylabel(\"Cumulative Explained Variance Ratio\")\n",
    "plt.show()"
   ]
  },
  {
   "cell_type": "code",
   "execution_count": 8,
   "metadata": {},
   "outputs": [
    {
     "name": "stdout",
     "output_type": "stream",
     "text": [
      "       0                    1\n",
      "0    PC0            sales w-1\n",
      "1    PC1                price\n",
      "2    PC2     week_of_the_year\n",
      "3    PC3        lag_target_50\n",
      "4    PC4            increment\n",
      "5    PC5            increment\n",
      "6    PC6          heavy_light\n",
      "7    PC7              seasons\n",
      "8    PC8              seasons\n",
      "9    PC9  volume_on_promo w-1\n",
      "10  PC10        lag_target_25\n",
      "11  PC11      POS_exposed w-1\n",
      "12  PC12        lag_target_50\n",
      "13  PC13    moving_average_20\n",
      "14  PC14                price\n",
      "15  PC15               exp_ma\n",
      "16  PC16    days_to_christmas\n"
     ]
    }
   ],
   "source": [
    "n_pcs= fitted_model.components_.shape[0]\n",
    "\n",
    "most_important=[]\n",
    "for i in range(n_pcs):\n",
    "    most_important.append(np.abs(fitted_model.components_[i]).argmax())\n",
    "    #fitted_model.components_[:,most_important[i]]=0 se vogliamo droppare la feature una volta presa in \n",
    "                                                        #considerazione\n",
    "\n",
    "\n",
    "\n",
    "#most_important = [np.abs(fitted_model.components_[i]).argmax() for i in range(n_pcs)]\n",
    "\n",
    "\n",
    "initial_feature_names = [df_train_pca.columns.values]\n",
    "\n",
    "most_important_names = [initial_feature_names[0][most_important[i]] for i in range(n_pcs)]\n",
    "\n",
    "# LIST COMPREHENSION HERE AGAIN\n",
    "dic = {'PC{}'.format(i): most_important_names[i] for i in range(n_pcs)}\n",
    "\n",
    "# build the dataframe\n",
    "df = pd.DataFrame(dic.items())\n",
    "print (df)"
   ]
  }
 ],
 "metadata": {
  "kernelspec": {
   "display_name": "Python 3",
   "language": "python",
   "name": "python3"
  },
  "language_info": {
   "codemirror_mode": {
    "name": "ipython",
    "version": 3
   },
   "file_extension": ".py",
   "mimetype": "text/x-python",
   "name": "python",
   "nbconvert_exporter": "python",
   "pygments_lexer": "ipython3",
   "version": "3.7.6"
  }
 },
 "nbformat": 4,
 "nbformat_minor": 4
}
