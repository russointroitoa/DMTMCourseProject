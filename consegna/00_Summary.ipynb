{
 "cells": [
  {
   "cell_type": "markdown",
   "metadata": {},
   "source": [
    "# <b>Data Mining Challenge 2020</b>\n",
    "\n",
    "## <b>Team</b>\n",
    "* Tommaso Fioravanti - 10709486\n",
    "* Matteo Moreschini - 10652325\n",
    "* Alessio Introito Russo - 10652428\n",
    "* Davide Salaorni - 10526800\n",
    "---"
   ]
  },
  {
   "cell_type": "markdown",
   "metadata": {},
   "source": [
    "# **1. Project structure**\n",
    "Here what you can find in this folder:\n",
    "1. Introduction + Preprocessing\n",
    "2. Baseline\n",
    "3. Data Analysis\n",
    "4. Feature Engineering\n",
    "5. Models\n",
    "\n",
    "Following the notebooks in the previous order, you can get an idea about reasons and objectives of our work, the choices that we have made and the results that we have got. <br>\n",
    "We decided to keep the notebook split for a higher readability. <br>\n",
    "ENJOY!"
   ]
  },
  {
   "cell_type": "markdown",
   "metadata": {},
   "source": [
    "---\n",
    "## Guidelines to run models:\n",
    "In the notebook _5. Models_ we provide you with the code to run the different models that we used. <br> Actually, we suggest you to not run them from the notebook, since they are too computational and time expensive, but its better to execute the _run_model.py_ script giving as parameter the name of the desired model ('lgb_std', 'lgb_cls', 'catboost'). Only for XGBoost you have to run _XGBoost.py_ setting parameter _save_ to False. <br> <br>\n",
    "Instead to run the final model you need to follow the next steps:\n",
    "1. run _create_stacking_datasets.py_ in order to create the datasets for the meta-learner: this script extracts predictions both of _LightGBM_standard_, _LightGBM_cluster_ and _Catboost_;\n",
    "2. run the main in _XGBoost.py_ to extract the predictions;\n",
    "3. run _stacking.py_ to get final results.\n"
   ]
  },
  {
   "cell_type": "code",
   "execution_count": null,
   "metadata": {},
   "outputs": [],
   "source": []
  }
 ],
 "metadata": {
  "kernelspec": {
   "display_name": "Python 3",
   "language": "python",
   "name": "python3"
  },
  "language_info": {
   "codemirror_mode": {
    "name": "ipython",
    "version": 3
   },
   "file_extension": ".py",
   "mimetype": "text/x-python",
   "name": "python",
   "nbconvert_exporter": "python",
   "pygments_lexer": "ipython3",
   "version": "3.7.6"
  }
 },
 "nbformat": 4,
 "nbformat_minor": 4
}
