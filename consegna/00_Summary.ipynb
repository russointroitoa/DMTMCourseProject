{
 "cells": [
  {
   "cell_type": "markdown",
   "metadata": {},
   "source": [
    "# <b>Data Mining Challenge 2020</b>\n",
    "\n",
    "## <b>Team</b>\n",
    "* Tommaso Fioravanti - 10709486\n",
    "* Matteo Moreschini - 10652325\n",
    "* Alessio Introito Russo - 10652428\n",
    "* Davide Salaorni - 10526800\n",
    "---"
   ]
  },
  {
   "cell_type": "markdown",
   "metadata": {},
   "source": [
    "# **1. Project structure**\n",
    "Here what you can find in this folder:\n",
    "1. Introduction + Preprocessing\n",
    "2. Baseline\n",
    "3. Data Analysis\n",
    "4. Feature Engineering\n",
    "5. Models\n",
    "\n",
    "Following the notebooks in the previous order, you can get an idea about reasons and objectives of our work, the choices that we have made and the results that we have got. <br>\n",
    "We decided to keep the notebook split for a higher readability. <br>\n",
    "ENJOY!"
   ]
  },
  {
   "cell_type": "code",
   "execution_count": null,
   "metadata": {},
   "outputs": [],
   "source": []
  }
 ],
 "metadata": {
  "kernelspec": {
   "display_name": "Python 3",
   "language": "python",
   "name": "python3"
  },
  "language_info": {
   "codemirror_mode": {
    "name": "ipython",
    "version": 3
   },
   "file_extension": ".py",
   "mimetype": "text/x-python",
   "name": "python",
   "nbconvert_exporter": "python",
   "pygments_lexer": "ipython3",
   "version": "3.7.6"
  }
 },
 "nbformat": 4,
 "nbformat_minor": 4
}
